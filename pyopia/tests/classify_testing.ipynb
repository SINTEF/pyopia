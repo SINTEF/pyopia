{
 "cells": [
  {
   "cell_type": "code",
   "execution_count": 60,
   "metadata": {},
   "outputs": [],
   "source": [
    "from glob import glob\n",
    "import tempfile\n",
    "import os\n",
    "\n",
    "import pyopia.exampledata as testdata\n",
    "import pyopia.io\n",
    "import pyopia.classify\n",
    "from pyopia.pipeline import Pipeline\n",
    "import pyopia.process\n",
    "import pyopia.statistics\n",
    "import pyopia.background  # noqa: F401\n",
    "import xarray\n",
    "import pandas as pd\n",
    "import skimage.io\n",
    "import numpy as np\n",
    "import matplotlib.pyplot as plt\n",
    "import pyopia.instrument.silcam"
   ]
  },
  {
   "cell_type": "code",
   "execution_count": 61,
   "metadata": {},
   "outputs": [
    {
     "name": "stdout",
     "output_type": "stream",
     "text": [
      "WARNING: Classification assumes loaded images have values in the range 0-255\n"
     ]
    }
   ],
   "source": [
    "database_path = '/Users/emlynd/Downloads/pysilcam-testdata/unittest-data/silcam_classification_database'\n",
    "model_path = '/Users/emlynd/Downloads/pysilcam-testdata/keras_model/keras_model.h5'\n",
    "cl = pyopia.classify.Classify(model_path=model_path)"
   ]
  },
  {
   "cell_type": "code",
   "execution_count": 62,
   "metadata": {},
   "outputs": [],
   "source": [
    "def get_good_roi(category):\n",
    "    '''\n",
    "    calculate the percentage positive matches for a given category\n",
    "    '''\n",
    "\n",
    "    # list the files in this category of the training data\n",
    "    files = glob(os.path.join(database_path, category, '*.tiff'))\n",
    "\n",
    "    # loop through the database images\n",
    "    for file in files:\n",
    "        img = skimage.io.imread(file)  # load ROI\n",
    "        prediction = cl.proc_predict(img)  # run prediction from silcam_classify\n",
    "\n",
    "        ind = np.argmax(prediction)  # find the highest score\n",
    "\n",
    "        # check if the highest score matches the correct category\n",
    "        if cl.class_labels[ind] == category:\n",
    "            return img, category"
   ]
  },
  {
   "cell_type": "code",
   "execution_count": 63,
   "metadata": {},
   "outputs": [
    {
     "name": "stdout",
     "output_type": "stream",
     "text": [
      "['/Users/emlynd/Downloads/pysilcam-testdata/unittest-data/silcam_classification_database/copepod', '/Users/emlynd/Downloads/pysilcam-testdata/unittest-data/silcam_classification_database/faecal_pellets', '/Users/emlynd/Downloads/pysilcam-testdata/unittest-data/silcam_classification_database/other', '/Users/emlynd/Downloads/pysilcam-testdata/unittest-data/silcam_classification_database/bubble', '/Users/emlynd/Downloads/pysilcam-testdata/unittest-data/silcam_classification_database/diatom_chain', '/Users/emlynd/Downloads/pysilcam-testdata/unittest-data/silcam_classification_database/oil', '/Users/emlynd/Downloads/pysilcam-testdata/unittest-data/silcam_classification_database/oily_gas']\n",
      "Initialising pipeline\n",
      "WARNING: Classification assumes loaded images have values in the range 0-255\n",
      "Classify  ready with: {'model_path': 'keras_model.h5'}  and data dict_keys(['cl', 'settings', 'raw_files'])\n",
      "ImagePrep  ready with: {'image_level': 'imraw'}  and data dict_keys(['cl', 'settings', 'raw_files', 'imraw', 'timestamp'])\n",
      "Segment  ready with: {'threshold': 0.85}  and data dict_keys(['cl', 'settings', 'raw_files', 'imraw', 'timestamp', 'imref', 'imc'])\n",
      "segment\n",
      "clean\n",
      "CalculateStats  ready with: {}  and data dict_keys(['cl', 'settings', 'raw_files', 'imraw', 'timestamp', 'imref', 'imc', 'imbw'])\n",
      "statextract\n",
      "0.6% saturation\n",
      "measure\n",
      "  6 particles found\n",
      "EXTRACTING 6 IMAGES from 6\n"
     ]
    }
   ],
   "source": [
    "canvas = np.ones((2048, 2448, 3), np.float64) * 1\n",
    "\n",
    "rc_shift = int(2048/len(cl.class_labels)/1.5)\n",
    "rc = rc_shift\n",
    "\n",
    "classes = glob(os.path.join(database_path, '*'))\n",
    "print(classes)\n",
    "\n",
    "categories = []\n",
    "\n",
    "for cat in classes:\n",
    "    name = os.path.split(cat)[-1]\n",
    "    img, category = get_good_roi(name)\n",
    "    categories.append(category)\n",
    "    img_shape = np.shape(img)\n",
    "    rc += rc_shift\n",
    "    canvas[rc:rc + img_shape[0], rc: rc + img_shape[1], :] = np.float64(img)/255\n",
    "\n",
    "settings = {'general': {'raw_files': None,\n",
    "                        'pixel_size': 24},\n",
    "            'steps': {'note': 'non-standard pipeline.'}\n",
    "           }\n",
    "\n",
    "# Initialise the pipeline class without running anything\n",
    "MyPipeline = pyopia.pipeline.Pipeline(settings=settings, initial_steps='')\n",
    "\n",
    "# Get the example trained model\n",
    "model_path = pyopia.exampledata.get_example_model(os.getcwd())\n",
    "\n",
    "# Add the classifier step description to settings (i.e. metadata)\n",
    "MyPipeline.settings['steps'].update({'classifier':\n",
    "                                       {'pipeline_class': 'pyopia.classify.Classify',\n",
    "                                       'model_path': model_path}\n",
    "                                    })\n",
    "\n",
    "# Execute the classifier step we defined above\n",
    "MyPipeline.run_step('classifier')\n",
    "# This is the same as running:\n",
    "# MyPipeline.data['cl'] = pyopia.classify.Classify(model_path=model_path)\n",
    "# Note: the classifier step is special in that it's output is specifically data['cl'], rather than other new keys in data\n",
    "\n",
    "MyPipeline.data['imraw'] = canvas\n",
    "MyPipeline.data['timestamp'] = pd.Timestamp.now()\n",
    "\n",
    "# Add the imageprep step description\n",
    "MyPipeline.settings['steps'].update({'imageprep':\n",
    "                                       {'pipeline_class': 'pyopia.instrument.silcam.ImagePrep',\n",
    "                                        'image_level': 'imraw'}\n",
    "                                    })\n",
    "# Run the step\n",
    "MyPipeline.run_step('imageprep')\n",
    "# This is the same as running:\n",
    "# ImagePrep = pyopia.instrument.silcam.ImagePrep(image_level='imraw')\n",
    "# MyPipeline.data = ImagePrep(MyPipeline.data)\n",
    "\n",
    "# Add the segmentation step description\n",
    "MyPipeline.settings['steps'].update({'segmentation':\n",
    "                            {'pipeline_class': 'pyopia.process.Segment',\n",
    "                            'threshold': 0.85}}\n",
    "                        )\n",
    "# Run the step\n",
    "MyPipeline.run_step('segmentation')\n",
    "# This is the same as running:\n",
    "# Segment = pyopia.process.Segment(threshold=settings['steps']['segmentation']['threshold'])\n",
    "# data = Segment(data)\n",
    "\n",
    "# Add the segmentation step description\n",
    "MyPipeline.settings['steps'].update({'statextract':\n",
    "                                        {'pipeline_class': 'pyopia.process.CalculateStats'}}\n",
    "                                    )\n",
    "\n",
    "# Run the step\n",
    "MyPipeline.run_step('statextract')\n",
    "# This is the same as running:\n",
    "# CalculateStats = pyopia.process.CalculateStats()\n",
    "# data = CalculateStats(data)\n",
    "\n",
    "stats = pyopia.statistics.add_best_guesses_to_stats(MyPipeline.data['stats'])\n",
    "\n",
    "out = [x[12:] for x in stats['best guess'].values]"
   ]
  },
  {
   "cell_type": "code",
   "execution_count": 64,
   "metadata": {},
   "outputs": [
    {
     "data": {
      "text/plain": [
       "<matplotlib.image.AxesImage at 0x3a8015840>"
      ]
     },
     "execution_count": 64,
     "metadata": {},
     "output_type": "execute_result"
    },
    {
     "data": {
      "image/png": "[encoded data removed]",
      "text/plain": [
       "<Figure size 640x480 with 1 Axes>"
      ]
     },
     "metadata": {},
     "output_type": "display_data"
    }
   ],
   "source": [
    "plt.imshow(MyPipeline.data['imraw'])"
   ]
  },
  {
   "cell_type": "code",
   "execution_count": 65,
   "metadata": {},
   "outputs": [
    {
     "name": "stdout",
     "output_type": "stream",
     "text": [
      "['copepod', 'faecal_pellets', 'other', 'bubble', 'diatom_chain', 'oil', 'oily_gas']\n",
      "['copepod', 'faecal_pellets', 'oil', 'bubble', 'oil', 'oily_gas']\n"
     ]
    }
   ],
   "source": [
    "print(categories)\n",
    "print(out)"
   ]
  },
  {
   "cell_type": "code",
   "execution_count": 66,
   "metadata": {},
   "outputs": [
    {
     "ename": "AssertionError",
     "evalue": "Classes returned from classifier do not match what was given to the pipeline",
     "output_type": "error",
     "traceback": [
      "\u001b[0;31m---------------------------------------------------------------------------\u001b[0m",
      "\u001b[0;31mAssertionError\u001b[0m                            Traceback (most recent call last)",
      "Cell \u001b[0;32mIn[66], line 1\u001b[0m\n\u001b[0;32m----> 1\u001b[0m \u001b[38;5;28;01massert\u001b[39;00m categories \u001b[38;5;241m==\u001b[39m out, \u001b[38;5;124m'\u001b[39m\u001b[38;5;124mClasses returned from classifier do not match what was given to the pipeline\u001b[39m\u001b[38;5;124m'\u001b[39m\n",
      "\u001b[0;31mAssertionError\u001b[0m: Classes returned from classifier do not match what was given to the pipeline"
     ]
    }
   ],
   "source": [
    "assert categories == out, 'Classes returned from classifier do not match what was given to the pipeline'"
   ]
  }
 ],
 "metadata": {
  "kernelspec": {
   "display_name": "pyopia",
   "language": "python",
   "name": "python3"
  },
  "language_info": {
   "codemirror_mode": {
    "name": "ipython",
    "version": 3
   },
   "file_extension": ".py",
   "mimetype": "text/x-python",
   "name": "python",
   "nbconvert_exporter": "python",
   "pygments_lexer": "ipython3",
   "version": "3.10.12"
  }
 },
 "nbformat": 4,
 "nbformat_minor": 2
}
