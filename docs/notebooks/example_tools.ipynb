{
 "cells": [
  {
   "cell_type": "code",
   "execution_count": 1,
   "id": "1c889a56",
   "metadata": {
    "tags": [
     "remove_cell"
    ]
   },
   "outputs": [],
   "source": [
    "import numpy as np\n",
    "import matplotlib.pyplot as plt\n",
    "import pandas as pd\n",
    "import os\n",
    "\n",
    "import pyopia.classify\n",
    "import pyopia.process\n",
    "import pyopia.statistics\n",
    "import pyopia.pipeline\n",
    "import pyopia.instrument.silcam\n",
    "import pyopia.io\n",
    "import pyopia.tests.testdata"
   ]
  },
  {
   "cell_type": "code",
   "execution_count": 2,
   "id": "5aea7a85",
   "metadata": {},
   "outputs": [],
   "source": [
    "model_path = pyopia.tests.testdata.get_example_model(os.getcwd())"
   ]
  },
  {
   "cell_type": "code",
   "execution_count": 3,
   "id": "62aafc0f",
   "metadata": {
    "tags": [
     "hide-output",
     "remove_output"
    ]
   },
   "outputs": [],
   "source": [
    "toml_settings = pyopia.io.load_toml('config.toml')"
   ]
  },
  {
   "cell_type": "code",
   "execution_count": 4,
   "id": "e810c888",
   "metadata": {},
   "outputs": [
    {
     "name": "stdout",
     "output_type": "stream",
     "text": [
      "WARNING: Classification assumes loaded images have values in the range 0-255\n"
     ]
    }
   ],
   "source": [
    "classifier = pyopia.classify.Classify(model_path=toml_settings['steps']['classifier']['model_path'])"
   ]
  },
  {
   "cell_type": "code",
   "execution_count": 5,
   "id": "cc5ab2c0",
   "metadata": {},
   "outputs": [
    {
     "ename": "AttributeError",
     "evalue": "module 'pyopia' has no attribute 'plotting'",
     "output_type": "error",
     "traceback": [
      "\u001b[0;31m---------------------------------------------------------------------------\u001b[0m",
      "\u001b[0;31mAttributeError\u001b[0m                            Traceback (most recent call last)",
      "Cell \u001b[0;32mIn[5], line 12\u001b[0m\n\u001b[1;32m      9\u001b[0m imc \u001b[38;5;241m=\u001b[39m np\u001b[38;5;241m.\u001b[39mmin(imc, axis\u001b[38;5;241m=\u001b[39m\u001b[38;5;241m2\u001b[39m)\n\u001b[1;32m     10\u001b[0m imc \u001b[38;5;241m/\u001b[39m\u001b[38;5;241m=\u001b[39m \u001b[38;5;241m255\u001b[39m\n\u001b[0;32m---> 12\u001b[0m \u001b[43mpyopia\u001b[49m\u001b[38;5;241;43m.\u001b[39;49m\u001b[43mplotting\u001b[49m\u001b[38;5;241m.\u001b[39mshow_imc(imc, \u001b[38;5;241m24\u001b[39m)\n",
      "\u001b[0;31mAttributeError\u001b[0m: module 'pyopia' has no attribute 'plotting'"
     ]
    }
   ],
   "source": [
    "filename = pyopia.tests.testdata.get_example_silc_image(os.getcwd())\n",
    "\n",
    "image = np.load(filename, allow_pickle=False)\n",
    "\n",
    "imc = np.float64(image)\n",
    "\n",
    "# simplify processing by squeezing the image dimensions into a 2D array\n",
    "# min is used for squeezing to represent the highest attenuation of all wavelengths\n",
    "imc = np.min(imc, axis=2)\n",
    "imc /= 255\n",
    "\n",
    "pyopia.plotting.show_imc(imc, 24)"
   ]
  },
  {
   "cell_type": "code",
   "execution_count": null,
   "id": "c19c7be2",
   "metadata": {
    "tags": [
     "hide-output"
    ]
   },
   "outputs": [],
   "source": [
    "# Initialise the pipeline and run the initial steps\n",
    "processing_pipeline = pyopia.pipeline.Pipeline(toml_settings)\n",
    "\n",
    "# Load an image (from the test suite)\n",
    "filename = pyopia.tests.testdata.get_example_silc_image(os.getcwd())\n",
    "\n",
    "# Process the image to obtain the stats dataframe\n",
    "stats = processing_pipeline.run(filename)"
   ]
  },
  {
   "cell_type": "code",
   "execution_count": null,
   "id": "3c590d91",
   "metadata": {},
   "outputs": [],
   "source": [
    "import pyopia.plotting\n",
    "\n",
    "\n",
    "filename\n",
    "im = pyopia.instrument.silcam.load_image(filename)\n",
    "pyopia.plotting.show_imc(im, 24)"
   ]
  },
  {
   "cell_type": "markdown",
   "id": "01a2fc04",
   "metadata": {},
   "source": [
    "Note: the returned stats from `stats = processing_pipeline.run(filename)` are single-image only and not appended if you loop through several filenames! It is recommended to use this step as part of pipeline that uses {class}`pyopia.io.StatsToDisc` for properly appending data into NetCDF format when processing several files."
   ]
  },
  {
   "attachments": {},
   "cell_type": "markdown",
   "id": "98ba998f",
   "metadata": {},
   "source": [
    "## The STATS DataFrame\n",
    "\n",
    "This is the main [Pandas DataFrame](https://pandas.pydata.org/docs/reference/api/pandas.DataFrame.html#pandas-dataframe) containing the processed information about every particle measured.\n",
    "\n",
    "This does not contain any calibrated values, so dimentions (e.g. equivalent_diameter etc.) and positions of ROI bounding boxes (e.g. minr etc.) are all in pixels (not microns). This allows for altering pixels size without having to re-process if a post-calibration is performed on the data, for example.\n",
    "\n",
    "The position of each particle within the original raw image are given by the bounding box at location (minr, minc, maxr, maxc) - with r and c being rows and columns, respectively.\n",
    "\n",
    "Classification probabilities are given by columns with 'probability_*'. Note: If `[steps.classifier]`is not defined in the config, the classification will be skipped and no probabilities reported. To use PyOPIA's Classification module requires the extra dependencies (pip install pyopia[classification] or pip install pyopia[classification-arm64])"
   ]
  },
  {
   "cell_type": "code",
   "execution_count": null,
   "id": "a2b4c420",
   "metadata": {},
   "outputs": [],
   "source": [
    "# print the stats DataFrame\n",
    "stats.head()"
   ]
  },
  {
   "cell_type": "code",
   "execution_count": null,
   "id": "82849b61",
   "metadata": {},
   "outputs": [],
   "source": [
    "# Calculate the volume distribution from the stats DataFrame.\n",
    "# (Usually several images would be needed for statistics to converge.\n",
    "# This can be done by appending new image stats to the DataFrame)\n",
    "dias, vd = pyopia.statistics.vd_from_stats(stats, 24)\n",
    "\n",
    "# plot the volume distribution\n",
    "plt.plot(dias, vd)\n",
    "plt.xscale('log')\n",
    "plt.xlabel('ECD [um]')\n",
    "plt.ylabel('Volume Concentration [uL/sample vol.]')\n",
    "plt.title('Particle Volume Distribution')\n",
    "plt.show()"
   ]
  }
 ],
 "metadata": {
  "kernelspec": {
   "display_name": "Python 3.8.13 64-bit ('pyopia')",
   "language": "python",
   "name": "python3"
  },
  "language_info": {
   "codemirror_mode": {
    "name": "ipython",
    "version": 3
   },
   "file_extension": ".py",
   "mimetype": "text/x-python",
   "name": "python",
   "nbconvert_exporter": "python",
   "pygments_lexer": "ipython3",
   "version": "3.10.12"
  },
  "vscode": {
   "interpreter": {
    "hash": "35ab0c005d63a5587fede8db5b2b16b081d9aece903d58f7211748c218ea86a0"
   }
  }
 },
 "nbformat": 4,
 "nbformat_minor": 5
}
