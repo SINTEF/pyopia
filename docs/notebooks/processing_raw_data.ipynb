{
 "cells": [
  {
   "cell_type": "markdown",
   "metadata": {},
   "source": [
    "(processing-raw-data)=\n",
    "# Processing raw data"
   ]
  },
  {
   "cell_type": "markdown",
   "metadata": {},
   "source": [
    "## 0) Activate the pyopia environment\n",
    "\n",
    "If you installed PyOPIA within as per the guide [here](https://pyopia.readthedocs.io/en/latest/intro.html#installing), then you should activate this environment first, e.g.:\n",
    "\n",
    "```\n",
    "uv sync\n",
    "```\n",
    "and\n",
    "```\n",
    "source .venv/bin/activate\n",
    "```"
   ]
  },
  {
   "cell_type": "markdown",
   "metadata": {},
   "source": [
    "## 1) Get yourself a config file.\n",
    "You can do this either by copy-paste from the page on {ref}`toml-config` into a new toml file (you might call it 'silcam-config.toml', for example), or from generating a very basic config from the command line tool: `pyopia generate-config`, e.g. for silcam:\n",
    "\n",
    "```\n",
    "pyopia generate-config silcam 'rawdatapath/*.silc' 'modelpath/keras_model.keras' 'proc_folder_path' 'testdata'\n",
    "```\n",
    "\n",
    "If you want help on what these options are, do: `pyopia generate-config --help`\n",
    "\n",
    "You should now have a toml file (e.g. called 'silcam-config.toml')"
   ]
  },
  {
   "cell_type": "markdown",
   "metadata": {},
   "source": [
    "## 2)  Make sure you are happy with your config file\n",
    "\n",
    "Refer to the comments in the examples given here {ref}`toml-config`\n",
    "\n",
    "If you need detailed help on arguments specific to a pipeline class, then you may wish to refer to the API documentation for that specific class.\n",
    "\n",
    "If you want to do classification, you need to give the `model_path` argument within `[steps.classifier]` a path to a trained keras model. You can download a silcam example [here](https://pysilcam.blob.core.windows.net/test-data/silcam-classification_database_20240822-200-20240829T091048.zip)"
   ]
  },
  {
   "cell_type": "markdown",
   "metadata": {},
   "source": [
    "## 3) Process!\n",
    "\n",
    "Run the command line processing which simply needs to know which config file you want it to work on, e.g.:\n",
    "\n",
    "```\n",
    "pyopia process silcam-config.toml\n",
    "```"
   ]
  },
  {
   "cell_type": "markdown",
   "metadata": {},
   "source": [
    "## 4) Output\n",
    "\n",
    "* You should expect an output folder defined by the `output_datafile` argument within the `[steps.output]` step.   \n",
    "  * This will either contain a new .nc file or several .nc files, depending on if you used the `append = false` option (intended for {ref}`big-data`) or not.\n",
    "* If you defined the `export_outputpath` argument in `[steps.statextract]`, then you will also have a folder containing a series of .h5 files, that contains all the particle ROIs"
   ]
  }
 ],
 "metadata": {
  "kernelspec": {
   "display_name": "pyopia",
   "language": "python",
   "name": "python3"
  },
  "language_info": {
   "codemirror_mode": {
    "name": "ipython",
    "version": 3
   },
   "file_extension": ".py",
   "mimetype": "text/x-python",
   "name": "python",
   "nbconvert_exporter": "python",
   "pygments_lexer": "ipython3",
   "version": "3.12.7"
  }
 },
 "nbformat": 4,
 "nbformat_minor": 2
}
