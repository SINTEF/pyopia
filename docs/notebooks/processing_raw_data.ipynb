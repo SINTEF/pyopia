{
 "cells": [
  {
   "cell_type": "markdown",
   "metadata": {},
   "source": [
    "(processing-raw-data)=\n",
    "# Processing raw data"
   ]
  },
  {
   "cell_type": "markdown",
   "metadata": {},
   "source": [
    "## 0) Activate the pyopia environment\n",
    "\n",
    "If you installed PyOPIA within as per the guide [here](https://pyopia.readthedocs.io/en/latest/intro.html#installing), then you should activate this environment first, e.g.:\n",
    "\n",
    "```\n",
    "uv sync\n",
    "```\n",
    "and\n",
    "```\n",
    "source .venv/bin/activate\n",
    "```"
   ]
  },
  {
   "cell_type": "markdown",
   "metadata": {},
   "source": [
    "## 1) Create a new project folder with a config file and metadata template\n",
    "To start a new image processing project with PyOPIA, you can use the 'init-project' command (here called 'myproject'):\n",
    "\n",
    "```\n",
    "pyopia init-project myproject\n",
    "```\n",
    "\n",
    "If you want help and additional options for this command, do: `pyopia init-project --help`\n",
    "\n",
    "You should now have a new project folder ('myproject') contaning a config file ('config.toml') and a README file with suggestions for steps to perform before starting processing. Several other input files and subfolders are also generated:\n",
    "\n",
    "```\n",
    "myproject/\n",
    "├── auxillarydata\n",
    "│   └── auxillary_data.csv\n",
    "├── config.toml\n",
    "├── images\n",
    "├── metadata.json\n",
    "├── processed\n",
    "├── pyopia-default-classifier-20250409.keras\n",
    "└── README\n",
    "```"
   ]
  },
  {
   "cell_type": "markdown",
   "metadata": {},
   "source": [
    "## 2)  Make sure you are happy with your config file\n",
    "\n",
    "Refer to the comments in the examples given here {ref}`toml-config`\n",
    "\n",
    "If you need detailed help on arguments specific to a pipeline class, then you may wish to refer to the API documentation for that specific class.\n",
    "\n",
    "Particle classification is provided by [steps.classifier], which points to a pre-trained Keras CNN model. A default classifier for PyOPIA was provided by default using the init-project command. "
   ]
  },
  {
   "cell_type": "markdown",
   "metadata": {},
   "source": [
    "## 3) Add project-relevant metadata\n",
    "\n",
    "PyOPIA generates a self-describing netCDF file during processing, which in addition to particle statistics contain some basic metadata. These are in part taken from the 'metadata.json' file generated in the previous step.\n",
    "\n",
    "The generated template file 'metadata.json' contains several items that should be filled out, such as 'title' and 'creator_name'. Also check that you are happy with the default license proposed (CC BY-SA). \n",
    "\n",
    "\n",
    "You can add your own metadata items in this file as well."
   ]
  },
  {
   "cell_type": "markdown",
   "metadata": {},
   "source": [
    "## 4) Add auxillary data\n",
    "\n",
    "A typical image dataset will be associated with some auxillary data variables, e.g. temperature, salinity and depth for a profiling setup deployed at sea. This information can optionally be incorporated into the particle statistics netCDF that PyOPIA generates, to ease post-processing of the data. Such information should is added as time series in the auxillary data file ('auxillary_data.csv'). Each row in this file should consist of a time stamp and one or more auxillary data elements. The time stamps are interpolated to match each image being processed, so they need not match exactly, but should cover the same time period. See the generated template file for more information ('auxillarydata/auxillary_data.csv').\n"
   ]
  },
  {
   "cell_type": "markdown",
   "metadata": {},
   "source": [
    "## 5) Process!\n",
    "\n",
    "Run the command line processing which simply needs to know which config file you want it to work on, e.g.:\n",
    "\n",
    "```\n",
    "pyopia process config.toml\n",
    "```"
   ]
  },
  {
   "cell_type": "markdown",
   "metadata": {},
   "source": [
    "## 4) Output\n",
    "\n",
    "* You should expect an output folder defined by the `output_datafile` argument within the `[steps.output]` step.   \n",
    "  * This will either contain a new .nc file or several .nc files, depending on if you used the `append = false` option (intended for {ref}`big-data`) or not.\n",
    "* If you defined the `export_outputpath` argument in `[steps.statextract]`, then you will also have a folder containing a series of .h5 files, that contains all the particle ROIs"
   ]
  }
 ],
 "metadata": {
  "kernelspec": {
   "display_name": "pyopia",
   "language": "python",
   "name": "python3"
  },
  "language_info": {
   "codemirror_mode": {
    "name": "ipython",
    "version": 3
   },
   "file_extension": ".py",
   "mimetype": "text/x-python",
   "name": "python",
   "nbconvert_exporter": "python",
   "pygments_lexer": "ipython3",
   "version": "3.12.7"
  }
 },
 "nbformat": 4,
 "nbformat_minor": 2
}
