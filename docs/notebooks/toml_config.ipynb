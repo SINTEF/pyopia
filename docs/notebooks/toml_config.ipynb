{
 "cells": [
  {
   "cell_type": "markdown",
   "metadata": {},
   "source": [
    "(toml-config)=\n",
    "# Pipeline config files"
   ]
  },
  {
   "cell_type": "markdown",
   "metadata": {},
   "source": [
    "PyOPIA makes use of TOML for configuration files, which can used loaded and given to {class}`pyopia.pipeline.Pipeline`, or passed directly from command line, like this: `pyopia process config.toml` ('Commmand line tools' page)."
   ]
  },
  {
   "cell_type": "markdown",
   "metadata": {},
   "source": [
    "Config files can be loaded for use in scripts or notebooks using:\n",
    "\n",
    "```\n",
    "toml_settings = pyopia.io.load_toml('config.toml')\n",
    "```"
   ]
  },
  {
   "cell_type": "markdown",
   "metadata": {},
   "source": [
    "### Main components of the config\n",
    "\n",
    "The `[general]` section contains information that applies generally to the dataset, or to several steps within a pipeline.\n",
    "\n",
    "The `[steps]` section contains sub-steps describing the {mod}`pyopia.pipeline` class and input arguments that perform each step of the processing."
   ]
  },
  {
   "cell_type": "markdown",
   "metadata": {},
   "source": [
    "## Examples"
   ]
  },
  {
   "cell_type": "markdown",
   "metadata": {},
   "source": [
    "### SilCam\n",
    "\n",
    "Below is a typical example for a SilCam processing pipeline. This setup could be used for other standard images by adapting the load function.\n",
    "\n",
    "```toml\n",
    "[general] # general settings independent of processing steps\n",
    "raw_files = 'raw_data/*.silc' # string used to obtain list of raw data files for processing\n",
    "pixel_size = 24 # pixel size of imaging system in microns\n",
    "log_level = 'INFO' # (defaults to INFO) sets the level of printed output or details in the log (see python logging library for details)\n",
    "log_file = 'pyopia.log' # (optional) path to logfile - logfile not written if not defined here\n",
    "\n",
    "[steps] # setup of analysis pipeline order, functions, and parameters\n",
    "\n",
    "    [steps.classifier]\n",
    "    pipeline_class = 'pyopia.classify.Classify'\n",
    "    model_path = 'keras_model.keras' # path to trained nn model\n",
    "\n",
    "    [steps.load]\n",
    "    pipeline_class = 'pyopia.instrument.silcam.SilCamLoad'\n",
    "\n",
    "    [steps.correctbackground]\n",
    "    pipeline_class = 'pyopia.background.CorrectBackgroundAccurate'\n",
    "    average_window = 10 # number of images used to create background\n",
    "    bgshift_function = 'accurate' # optional 'fast' or 'accurate' method for moving backgrounds. For static background use 'pass' or comment this line.\n",
    "\n",
    "    [steps.imageprep]\n",
    "    pipeline_class = 'pyopia.instrument.silcam.ImagePrep'\n",
    "    image_level = 'imraw' # the level of processing for further analysis. Either 'imraw' for ignoring background or 'im_corrected' for using the backgroun-corrected image. Defaults to 'imc' if not defined.\n",
    "\n",
    "    [steps.segmentation]\n",
    "    pipeline_class = 'pyopia.process.Segment'\n",
    "    threshold = 0.85 # threshold used for segmentation\n",
    "    segment_source = \"im_minimum\" # the image used for segmentation\n",
    "\n",
    "    [steps.statextract]\n",
    "    pipeline_class = 'pyopia.process.CalculateStats'\n",
    "    propnames = ['major_axis_length', 'minor_axis_length', 'equivalent_diameter', 'solidity'] # optional parameters to request from skimage.regionprops when calculating particle geometries. Defaults to ['major_axis_length', 'minor_axis_length', 'equivalent_diameter']. 'solidity' is needed for oil and gas analysis to help remove occluded particles.\n",
    "    export_outputpath = 'exported_rois' # Path to folder to put extracted particle ROIs (in h5 files). Required for making montages later. Leave this option out if you don't want to export ROIs\n",
    "    roi_source = \"imref\" # the image used to extract ROIs, and give to the classifier\n",
    "\n",
    "    [steps.output]\n",
    "    pipeline_class = 'pyopia.io.StatsToDisc'\n",
    "    output_datafile = 'proc/test' # prefix path for output nc file\n",
    "\n",
    "```"
   ]
  },
  {
   "cell_type": "markdown",
   "metadata": {},
   "source": [
    "### Holo\n",
    "\n",
    "Here is a typical configuration of a holographic reconstruction pipeline."
   ]
  },
  {
   "cell_type": "markdown",
   "metadata": {},
   "source": [
    "```toml\n",
    "[general] # general setting independent of processing steps\n",
    "raw_files = 'holo_test_data_01/*.pgm' # string used to obtain list of raw data files for processing\n",
    "pixel_size = 4.4 # pixel size of imaging system in microns'wavelength = 658, # laser wavelength in nm\n",
    "\n",
    "[steps] # setup of analysis pipeline order, functions, and parameters\n",
    "    [steps.initial]\n",
    "    pipeline_class = 'pyopia.instrument.holo.Initial'\n",
    "    # hologram reconstruction settings\n",
    "    wavelength = 658 # laser wavelength in nm\n",
    "    n = 1.33 # index of refraction of sample volume medium (1.33 for water)\n",
    "    offset = 27 # offset to start of sample volume in mm\n",
    "    minZ = 0 # minimum reconstruction distance within sample volume in mm\n",
    "    maxZ = 50 # maximum reconstruction distance within sample volume in mm\n",
    "    stepZ = 0.5 #step size in mm\n",
    "\n",
    "    [steps.load]\n",
    "    pipeline_class = 'pyopia.instrument.holo.Load'\n",
    "\n",
    "    [steps.correctbackground]\n",
    "    pipeline_class = 'pyopia.background.CorrectBackgroundAccurate'\n",
    "    average_window = 1 # number of images used to create background\n",
    "    bgshift_function = 'accurate' # optional 'fast' or 'accurate' method for moving backgrounds. For static background use 'pass' or comment this line.\n",
    "\n",
    "    [steps.reconstruct]\n",
    "    pipeline_class = 'pyopia.instrument.holo.Reconstruct'\n",
    "    stack_clean = 0.02\n",
    "\n",
    "    [steps.focus]\n",
    "    pipeline_class = 'pyopia.instrument.holo.Focus'\n",
    "    stacksummary_function = 'max_map'\n",
    "    threshold = 1\n",
    "    increase_depth_of_field = true\n",
    "    focus_function = 'find_focus_sobel'\n",
    "    merge_adjacent_particles = 2\n",
    "\n",
    "    [steps.segmentation]\n",
    "    pipeline_class = 'pyopia.process.Segment'\n",
    "    threshold = 0.99 # threshold used for segmentation\n",
    "    segment_source = 'im_focussed' # the image used for segmentation\n",
    "\n",
    "    [steps.statextract]\n",
    "    pipeline_class = 'pyopia.process.CalculateStats'\n",
    "    propnames = ['major_axis_length', 'minor_axis_length', 'equivalent_diameter', \n",
    "                              'feret_diameter_max', 'equivalent_diameter_area']\n",
    "    roi_source = 'im_focussed'\n",
    "\n",
    "    [steps.output]\n",
    "    pipeline_class = 'pyopia.io.StatsToDisc'\n",
    "    output_datafile = 'proc-holo-singleimage/test' # prefix path for output nc file\n",
    "```"
   ]
  },
  {
   "cell_type": "markdown",
   "metadata": {},
   "source": [
    "### UVP\n",
    "\n",
    "Here is a typical configuration for basic analysis of raw UVP data.\n",
    "\n",
    "```toml\n",
    "[general]\n",
    "raw_files = \"uvp_data/*.png\"\n",
    "pixel_size = 80\n",
    "\n",
    "[steps]\n",
    "\n",
    "    [steps.classifier]\n",
    "    pipeline_class = \"pyopia.classify.Classify\"\n",
    "    model_path = \"model/silcam-classification_database_20240822-200-20240829T091048-best-epoch.keras\"\n",
    "\n",
    "    [steps.load]\n",
    "    pipeline_class = \"pyopia.instrument.uvp.UVPLoad\"\n",
    "\n",
    "    [steps.segmentation]\n",
    "    pipeline_class = \"pyopia.process.Segment\"\n",
    "    threshold = 0.95\n",
    "    segment_source = \"imraw\"\n",
    "\n",
    "    [steps.statextract]\n",
    "    pipeline_class = \"pyopia.process.CalculateStats\"\n",
    "    roi_source = \"imraw\"\n",
    "    export_outputpath = \"uvp_rois\"\n",
    "\n",
    "    [steps.output]\n",
    "    pipeline_class = \"pyopia.io.StatsToDisc\"\n",
    "    output_datafile = \"proc/uvp-test\"\n",
    "\n",
    "```"
   ]
  }
 ],
 "metadata": {
  "language_info": {
   "name": "python"
  },
  "orig_nbformat": 4
 },
 "nbformat": 4,
 "nbformat_minor": 2
}
