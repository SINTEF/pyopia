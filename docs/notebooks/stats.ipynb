{
 "cells": [
  {
   "attachments": {},
   "cell_type": "markdown",
   "id": "5f233aad",
   "metadata": {},
   "source": [
    "# The PyOPIA Particle STATS\n",
    "\n",
    "How to create STATS, how is it structured, and how to plot a volume distribution"
   ]
  },
  {
   "cell_type": "code",
   "execution_count": 1,
   "id": "1c889a56",
   "metadata": {
    "tags": [
     "remove_cell"
    ]
   },
   "outputs": [],
   "source": [
    "import numpy as np\n",
    "import matplotlib.pyplot as plt\n",
    "import pandas as pd\n",
    "import os\n",
    "\n",
    "import pyopia.classify\n",
    "import pyopia.process\n",
    "import pyopia.statistics\n",
    "import pyopia.pipeline\n",
    "import pyopia.instrument.silcam\n",
    "import pyopia.io\n",
    "import pyopia.exampledata"
   ]
  },
  {
   "cell_type": "markdown",
   "id": "0747ca01",
   "metadata": {},
   "source": [
    "## Installation note:\n",
    "\n",
    "These examples use 'classification' optional dependencies. \n",
    "\n",
    "#### If you have installed with pip:\n",
    "\n",
    "```\n",
    "pip install pyopia[classification]\n",
    "```\n",
    "\n",
    "or for arm/silicon systems:\n",
    "\n",
    "```\n",
    "pip install pyopia[classification-arm64]\n",
    "```\n",
    "\n",
    "#### If you have installed from source with poetry:\n",
    "\n",
    "\n",
    "```\n",
    "poetry install --extras \"classification\"\n",
    "```\n",
    "\n",
    "or for arm/silicon systems:\n",
    "\n",
    "```\n",
    "poetry install --extras \"classification-arm64\"\n",
    "```"
   ]
  },
  {
   "attachments": {},
   "cell_type": "markdown",
   "id": "b2194fe7",
   "metadata": {},
   "source": [
    "## Process an example image\n",
    "\n",
    "First, we can setup and example pre-trained CNN, available from the {mod}`pyopia.tests` module."
   ]
  },
  {
   "cell_type": "code",
   "execution_count": 2,
   "id": "5aea7a85",
   "metadata": {},
   "outputs": [],
   "source": [
    "model_path = pyopia.exampledata.get_example_model(os.getcwd())"
   ]
  },
  {
   "attachments": {},
   "cell_type": "markdown",
   "id": "c5bc7f74",
   "metadata": {},
   "source": [
    "Now we can use a config file to define a set of processing steps for a SilCam image ({mod}`pyopia.instrument.silcam`). You can generate this config file using `pyopia generate-config` (see the 'Command line tools' page for more info), or you could have a look at some of the example config files in the [notebooks](https://github.com/SINTEF/pyopia/tree/main/notebooks) folder"
   ]
  },
  {
   "cell_type": "code",
   "execution_count": 3,
   "id": "62aafc0f",
   "metadata": {
    "tags": [
     "hide-output",
     "remove_output"
    ]
   },
   "outputs": [],
   "source": [
    "toml_settings = pyopia.io.load_toml('config.toml')"
   ]
  },
  {
   "attachments": {},
   "cell_type": "markdown",
   "id": "d25463ca",
   "metadata": {},
   "source": [
    "And run the {class}`pyopia.pipeline.Pipeline` class"
   ]
  },
  {
   "cell_type": "code",
   "execution_count": 4,
   "id": "c19c7be2",
   "metadata": {
    "tags": [
     "hide-output"
    ]
   },
   "outputs": [
    {
     "name": "stdout",
     "output_type": "stream",
     "text": [
      "Initialising pipeline\n",
      "WARNING: Classification assumes loaded images have values in the range 0-255\n",
      "Classify  ready with: {'model_path': 'keras_model.h5'}  and data dict_keys(['cl', 'settings', 'raw_files'])\n",
      "Example image already exists. Skipping download.\n",
      "SilCamLoad  ready with: {}  and data dict_keys(['cl', 'settings', 'raw_files', 'filename'])\n",
      "ImagePrep  ready with: {'image_level': 'imraw'}  and data dict_keys(['cl', 'settings', 'raw_files', 'filename', 'timestamp', 'imraw'])\n",
      "Segment  ready with: {'threshold': 0.85}  and data dict_keys(['cl', 'settings', 'raw_files', 'filename', 'timestamp', 'imraw', 'imref', 'imc'])\n",
      "segment\n",
      "clean\n",
      "CalculateStats  ready with: {}  and data dict_keys(['cl', 'settings', 'raw_files', 'filename', 'timestamp', 'imraw', 'imref', 'imc', 'imbw'])\n",
      "statextract\n",
      "21.7% saturation\n",
      "measure\n",
      "  870 particles found\n",
      "WARNING. exportparticles temporarily modified for 2-d images without color!\n",
      "EXTRACTING 870 IMAGES from 870\n",
      "StatsToDisc  ready with: {'output_datafile': './test'}  and data dict_keys(['cl', 'settings', 'raw_files', 'filename', 'timestamp', 'imraw', 'imref', 'imc', 'imbw', 'stats'])\n"
     ]
    }
   ],
   "source": [
    "# Initialise the pipeline and run the initial steps\n",
    "processing_pipeline = pyopia.pipeline.Pipeline(toml_settings)\n",
    "\n",
    "# Load an image (from the test suite)\n",
    "filename = pyopia.exampledata.get_example_silc_image(os.getcwd())\n",
    "\n",
    "# Process the image to obtain the stats dataframe\n",
    "processing_pipeline.run(filename)\n",
    "stats = processing_pipeline.data['stats']"
   ]
  },
  {
   "cell_type": "markdown",
   "id": "01a2fc04",
   "metadata": {},
   "source": [
    "Note: the returned stats from `stats = processing_pipeline.run(filename)` are single-image only and not appended if you loop through several filenames! It is recommended to use this step as part of pipeline that uses {class}`pyopia.io.StatsToDisc` for properly appending data into NetCDF format when processing several files."
   ]
  },
  {
   "attachments": {},
   "cell_type": "markdown",
   "id": "98ba998f",
   "metadata": {},
   "source": [
    "## The STATS DataFrame\n",
    "\n",
    "This is the main [Pandas DataFrame](https://pandas.pydata.org/docs/reference/api/pandas.DataFrame.html#pandas-dataframe) containing the processed information about every particle measured.\n",
    "\n",
    "This does not contain any calibrated values, so dimentions (e.g. equivalent_diameter etc.) and positions of ROI bounding boxes (e.g. minr etc.) are all in pixels (not microns). This allows for altering pixels size without having to re-process if a post-calibration is performed on the data, for example.\n",
    "\n",
    "The position of each particle within the original raw image are given by the bounding box at location (minr, minc, maxr, maxc) - with r and c being rows and columns, respectively.\n",
    "\n",
    "Classification probabilities are given by columns with 'probability_*'. Note: If `[steps.classifier]`is not defined in the config, the classification will be skipped and no probabilities reported. To use PyOPIA's Classification module requires the extra dependencies (pip install pyopia[classification] or pip install pyopia[classification-arm64])"
   ]
  },
  {
   "cell_type": "code",
   "execution_count": 5,
   "id": "a2b4c420",
   "metadata": {},
   "outputs": [
    {
     "data": {
      "text/html": [
       "<div>\n",
       "<style scoped>\n",
       "    .dataframe tbody tr th:only-of-type {\n",
       "        vertical-align: middle;\n",
       "    }\n",
       "\n",
       "    .dataframe tbody tr th {\n",
       "        vertical-align: top;\n",
       "    }\n",
       "\n",
       "    .dataframe thead th {\n",
       "        text-align: right;\n",
       "    }\n",
       "</style>\n",
       "<table border=\"1\" class=\"dataframe\">\n",
       "  <thead>\n",
       "    <tr style=\"text-align: right;\">\n",
       "      <th></th>\n",
       "      <th>major_axis_length</th>\n",
       "      <th>minor_axis_length</th>\n",
       "      <th>equivalent_diameter</th>\n",
       "      <th>minr</th>\n",
       "      <th>minc</th>\n",
       "      <th>maxr</th>\n",
       "      <th>maxc</th>\n",
       "      <th>probability_oil</th>\n",
       "      <th>probability_other</th>\n",
       "      <th>probability_bubble</th>\n",
       "      <th>probability_faecal_pellets</th>\n",
       "      <th>probability_copepod</th>\n",
       "      <th>probability_diatom_chain</th>\n",
       "      <th>probability_oily_gas</th>\n",
       "      <th>export name</th>\n",
       "      <th>timestamp</th>\n",
       "      <th>saturation</th>\n",
       "    </tr>\n",
       "  </thead>\n",
       "  <tbody>\n",
       "    <tr>\n",
       "      <th>0</th>\n",
       "      <td>6.175643</td>\n",
       "      <td>2.743739</td>\n",
       "      <td>3.908820</td>\n",
       "      <td>3.0</td>\n",
       "      <td>77.0</td>\n",
       "      <td>8.0</td>\n",
       "      <td>81.0</td>\n",
       "      <td>0.285310</td>\n",
       "      <td>0.053474</td>\n",
       "      <td>5.428675e-01</td>\n",
       "      <td>4.880920e-03</td>\n",
       "      <td>3.022380e-03</td>\n",
       "      <td>4.415022e-03</td>\n",
       "      <td>1.060302e-01</td>\n",
       "      <td>D20181101T142731.838206-PN0</td>\n",
       "      <td>2018-11-01 14:27:31.838206</td>\n",
       "      <td>21.666268</td>\n",
       "    </tr>\n",
       "    <tr>\n",
       "      <th>1</th>\n",
       "      <td>15.518777</td>\n",
       "      <td>13.091788</td>\n",
       "      <td>14.138550</td>\n",
       "      <td>3.0</td>\n",
       "      <td>1896.0</td>\n",
       "      <td>18.0</td>\n",
       "      <td>1912.0</td>\n",
       "      <td>0.219160</td>\n",
       "      <td>0.005522</td>\n",
       "      <td>7.531021e-01</td>\n",
       "      <td>2.015659e-06</td>\n",
       "      <td>7.330137e-06</td>\n",
       "      <td>2.535686e-06</td>\n",
       "      <td>2.220398e-02</td>\n",
       "      <td>D20181101T142731.838206-PN1</td>\n",
       "      <td>2018-11-01 14:27:31.838206</td>\n",
       "      <td>21.666268</td>\n",
       "    </tr>\n",
       "    <tr>\n",
       "      <th>2</th>\n",
       "      <td>21.233102</td>\n",
       "      <td>18.983567</td>\n",
       "      <td>20.026744</td>\n",
       "      <td>4.0</td>\n",
       "      <td>181.0</td>\n",
       "      <td>26.0</td>\n",
       "      <td>202.0</td>\n",
       "      <td>0.982581</td>\n",
       "      <td>0.000725</td>\n",
       "      <td>8.770840e-03</td>\n",
       "      <td>5.576220e-08</td>\n",
       "      <td>1.831942e-06</td>\n",
       "      <td>7.583355e-06</td>\n",
       "      <td>7.914181e-03</td>\n",
       "      <td>D20181101T142731.838206-PN2</td>\n",
       "      <td>2018-11-01 14:27:31.838206</td>\n",
       "      <td>21.666268</td>\n",
       "    </tr>\n",
       "    <tr>\n",
       "      <th>3</th>\n",
       "      <td>37.163209</td>\n",
       "      <td>34.977428</td>\n",
       "      <td>36.019871</td>\n",
       "      <td>4.0</td>\n",
       "      <td>282.0</td>\n",
       "      <td>41.0</td>\n",
       "      <td>318.0</td>\n",
       "      <td>0.999999</td>\n",
       "      <td>0.000001</td>\n",
       "      <td>6.355144e-08</td>\n",
       "      <td>5.643562e-11</td>\n",
       "      <td>2.458285e-12</td>\n",
       "      <td>2.210773e-13</td>\n",
       "      <td>6.275302e-10</td>\n",
       "      <td>D20181101T142731.838206-PN3</td>\n",
       "      <td>2018-11-01 14:27:31.838206</td>\n",
       "      <td>21.666268</td>\n",
       "    </tr>\n",
       "    <tr>\n",
       "      <th>4</th>\n",
       "      <td>7.765540</td>\n",
       "      <td>7.365920</td>\n",
       "      <td>7.225152</td>\n",
       "      <td>4.0</td>\n",
       "      <td>1444.0</td>\n",
       "      <td>12.0</td>\n",
       "      <td>1452.0</td>\n",
       "      <td>0.398723</td>\n",
       "      <td>0.057881</td>\n",
       "      <td>4.832646e-01</td>\n",
       "      <td>2.050719e-03</td>\n",
       "      <td>4.557050e-03</td>\n",
       "      <td>4.770531e-03</td>\n",
       "      <td>4.875316e-02</td>\n",
       "      <td>D20181101T142731.838206-PN4</td>\n",
       "      <td>2018-11-01 14:27:31.838206</td>\n",
       "      <td>21.666268</td>\n",
       "    </tr>\n",
       "  </tbody>\n",
       "</table>\n",
       "</div>"
      ],
      "text/plain": [
       "   major_axis_length  minor_axis_length  equivalent_diameter  minr    minc  \\\n",
       "0           6.175643           2.743739             3.908820   3.0    77.0   \n",
       "1          15.518777          13.091788            14.138550   3.0  1896.0   \n",
       "2          21.233102          18.983567            20.026744   4.0   181.0   \n",
       "3          37.163209          34.977428            36.019871   4.0   282.0   \n",
       "4           7.765540           7.365920             7.225152   4.0  1444.0   \n",
       "\n",
       "   maxr    maxc  probability_oil  probability_other  probability_bubble  \\\n",
       "0   8.0    81.0         0.285310           0.053474        5.428675e-01   \n",
       "1  18.0  1912.0         0.219160           0.005522        7.531021e-01   \n",
       "2  26.0   202.0         0.982581           0.000725        8.770840e-03   \n",
       "3  41.0   318.0         0.999999           0.000001        6.355144e-08   \n",
       "4  12.0  1452.0         0.398723           0.057881        4.832646e-01   \n",
       "\n",
       "   probability_faecal_pellets  probability_copepod  probability_diatom_chain  \\\n",
       "0                4.880920e-03         3.022380e-03              4.415022e-03   \n",
       "1                2.015659e-06         7.330137e-06              2.535686e-06   \n",
       "2                5.576220e-08         1.831942e-06              7.583355e-06   \n",
       "3                5.643562e-11         2.458285e-12              2.210773e-13   \n",
       "4                2.050719e-03         4.557050e-03              4.770531e-03   \n",
       "\n",
       "   probability_oily_gas                  export name  \\\n",
       "0          1.060302e-01  D20181101T142731.838206-PN0   \n",
       "1          2.220398e-02  D20181101T142731.838206-PN1   \n",
       "2          7.914181e-03  D20181101T142731.838206-PN2   \n",
       "3          6.275302e-10  D20181101T142731.838206-PN3   \n",
       "4          4.875316e-02  D20181101T142731.838206-PN4   \n",
       "\n",
       "                   timestamp  saturation  \n",
       "0 2018-11-01 14:27:31.838206   21.666268  \n",
       "1 2018-11-01 14:27:31.838206   21.666268  \n",
       "2 2018-11-01 14:27:31.838206   21.666268  \n",
       "3 2018-11-01 14:27:31.838206   21.666268  \n",
       "4 2018-11-01 14:27:31.838206   21.666268  "
      ]
     },
     "execution_count": 5,
     "metadata": {},
     "output_type": "execute_result"
    }
   ],
   "source": [
    "# print the stats DataFrame\n",
    "stats.head()"
   ]
  },
  {
   "attachments": {},
   "cell_type": "markdown",
   "id": "448761ff",
   "metadata": {},
   "source": [
    "## Analysis, statistics and plotting"
   ]
  },
  {
   "attachments": {},
   "cell_type": "markdown",
   "id": "e34734fc",
   "metadata": {},
   "source": [
    "There are lots of functions in {mod}`pyopia.statistics`. Here is just an example using {func}`pyopia.statistics.vd_from_stats`"
   ]
  },
  {
   "cell_type": "code",
   "execution_count": 6,
   "id": "82849b61",
   "metadata": {},
   "outputs": [
    {
     "data": {
      "image/png": "[encoded data removed]",
      "text/plain": [
       "<Figure size 640x480 with 1 Axes>"
      ]
     },
     "metadata": {},
     "output_type": "display_data"
    }
   ],
   "source": [
    "# Calculate the volume distribution from the stats DataFrame.\n",
    "# (Usually several images would be needed for statistics to converge.\n",
    "# This can be done by appending new image stats to the DataFrame)\n",
    "dias, vd = pyopia.statistics.vd_from_stats(stats, 24)\n",
    "\n",
    "# plot the volume distribution\n",
    "plt.plot(dias, vd)\n",
    "plt.xscale('log')\n",
    "plt.xlabel('ECD [um]')\n",
    "plt.ylabel('Volume Concentration [uL/sample vol.]')\n",
    "plt.title('Particle Volume Distribution')\n",
    "plt.show()"
   ]
  }
 ],
 "metadata": {
  "kernelspec": {
   "display_name": "Python 3.8.13 64-bit ('pyopia')",
   "language": "python",
   "name": "python3"
  },
  "language_info": {
   "codemirror_mode": {
    "name": "ipython",
    "version": 3
   },
   "file_extension": ".py",
   "mimetype": "text/x-python",
   "name": "python",
   "nbconvert_exporter": "python",
   "pygments_lexer": "ipython3",
   "version": "3.12.5"
  },
  "vscode": {
   "interpreter": {
    "hash": "35ab0c005d63a5587fede8db5b2b16b081d9aece903d58f7211748c218ea86a0"
   }
  }
 },
 "nbformat": 4,
 "nbformat_minor": 5
}
