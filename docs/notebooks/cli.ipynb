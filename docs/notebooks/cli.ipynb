{
 "cells": [
  {
   "attachments": {},
   "cell_type": "markdown",
   "id": "5f233aad",
   "metadata": {},
   "source": [
    "# Command line tools\n",
    "\n",
    "How to use PyOPIA on the command line.\n",
    "\n",
    "This is useful for routine tasks, such as processing larger datasets."
   ]
  },
  {
   "cell_type": "code",
   "execution_count": 1,
   "id": "1c889a56",
   "metadata": {
    "tags": [
     "remove_cell"
    ]
   },
   "outputs": [],
   "source": [
    "import numpy as np\n",
    "import matplotlib.pyplot as plt\n",
    "import pandas as pd\n",
    "import os\n",
    "\n",
    "import pyopia.classify\n",
    "import pyopia.process\n",
    "import pyopia.statistics\n",
    "import pyopia.pipeline\n",
    "import pyopia.instrument.silcam\n",
    "import pyopia.io\n",
    "import pyopia.tests.testdata"
   ]
  },
  {
   "cell_type": "markdown",
   "id": "a7631a9b",
   "metadata": {},
   "source": [
    "## Get help\n",
    "\n",
    "To get a print a basic outline of available commands and what they do:\n",
    "\n",
    "```\n",
    "pyopia --help\n",
    "```\n",
    "\n",
    "For more detailed help, refer to this documentation (you can load this py typing: `pyopia docs` into the command line)"
   ]
  },
  {
   "cell_type": "code",
   "execution_count": 8,
   "id": "5e87db89",
   "metadata": {
    "tags": [
     "hide-input"
    ]
   },
   "outputs": [
    {
     "data": {
      "text/html": [
       "<pre style=\"white-space:pre;overflow-x:auto;line-height:normal;font-family:Menlo,'DejaVu Sans Mono',consolas,'Courier New',monospace\"><span style=\"font-weight: bold\">                                                                                                                   </span>\n",
       "<span style=\"font-weight: bold\"> </span><span style=\"color: #808000; text-decoration-color: #808000; font-weight: bold\">Usage: </span><span style=\"font-weight: bold\">root [OPTIONS] COMMAND [ARGS]...                                                                           </span>\n",
       "<span style=\"font-weight: bold\">                                                                                                                   </span>\n",
       "</pre>\n"
      ],
      "text/plain": [
       "\u001b[1m                                                                                                                   \u001b[0m\n",
       "\u001b[1m \u001b[0m\u001b[1;33mUsage: \u001b[0m\u001b[1mroot [OPTIONS] COMMAND [ARGS]...\u001b[0m\u001b[1m                                                                          \u001b[0m\u001b[1m \u001b[0m\n",
       "\u001b[1m                                                                                                                   \u001b[0m\n"
      ]
     },
     "metadata": {},
     "output_type": "display_data"
    },
    {
     "data": {
      "text/html": [
       "<pre style=\"white-space:pre;overflow-x:auto;line-height:normal;font-family:Menlo,'DejaVu Sans Mono',consolas,'Courier New',monospace\"><span style=\"color: #7f7f7f; text-decoration-color: #7f7f7f\">╭─ Options ───────────────────────────────────────────────────────────────────────────────────────────────────────╮</span>\n",
       "<span style=\"color: #7f7f7f; text-decoration-color: #7f7f7f\">│</span> <span style=\"color: #008080; text-decoration-color: #008080; font-weight: bold\">--install-completion</span>          Install completion for the current shell.                                         <span style=\"color: #7f7f7f; text-decoration-color: #7f7f7f\">│</span>\n",
       "<span style=\"color: #7f7f7f; text-decoration-color: #7f7f7f\">│</span> <span style=\"color: #008080; text-decoration-color: #008080; font-weight: bold\">--show-completion</span>             Show completion for the current shell, to copy it or customize the installation.  <span style=\"color: #7f7f7f; text-decoration-color: #7f7f7f\">│</span>\n",
       "<span style=\"color: #7f7f7f; text-decoration-color: #7f7f7f\">│</span> <span style=\"color: #008080; text-decoration-color: #008080; font-weight: bold\">--help</span>                        Show this message and exit.                                                       <span style=\"color: #7f7f7f; text-decoration-color: #7f7f7f\">│</span>\n",
       "<span style=\"color: #7f7f7f; text-decoration-color: #7f7f7f\">╰─────────────────────────────────────────────────────────────────────────────────────────────────────────────────╯</span>\n",
       "</pre>\n"
      ],
      "text/plain": [
       "\u001b[2m╭─\u001b[0m\u001b[2m Options \u001b[0m\u001b[2m──────────────────────────────────────────────────────────────────────────────────────────────────────\u001b[0m\u001b[2m─╮\u001b[0m\n",
       "\u001b[2m│\u001b[0m \u001b[1;36m-\u001b[0m\u001b[1;36m-install\u001b[0m\u001b[1;36m-completion\u001b[0m          Install completion for the current shell.                                         \u001b[2m│\u001b[0m\n",
       "\u001b[2m│\u001b[0m \u001b[1;36m-\u001b[0m\u001b[1;36m-show\u001b[0m\u001b[1;36m-completion\u001b[0m             Show completion for the current shell, to copy it or customize the installation.  \u001b[2m│\u001b[0m\n",
       "\u001b[2m│\u001b[0m \u001b[1;36m-\u001b[0m\u001b[1;36m-help\u001b[0m                        Show this message and exit.                                                       \u001b[2m│\u001b[0m\n",
       "\u001b[2m╰─────────────────────────────────────────────────────────────────────────────────────────────────────────────────╯\u001b[0m\n"
      ]
     },
     "metadata": {},
     "output_type": "display_data"
    },
    {
     "data": {
      "text/html": [
       "<pre style=\"white-space:pre;overflow-x:auto;line-height:normal;font-family:Menlo,'DejaVu Sans Mono',consolas,'Courier New',monospace\"><span style=\"color: #7f7f7f; text-decoration-color: #7f7f7f\">╭─ Commands ──────────────────────────────────────────────────────────────────────────────────────────────────────╮</span>\n",
       "<span style=\"color: #7f7f7f; text-decoration-color: #7f7f7f\">│</span> <span style=\"color: #008080; text-decoration-color: #008080; font-weight: bold\">docs                   </span> Open browser at PyOPIA's readthedocs page                                               <span style=\"color: #7f7f7f; text-decoration-color: #7f7f7f\">│</span>\n",
       "<span style=\"color: #7f7f7f; text-decoration-color: #7f7f7f\">│</span> <span style=\"color: #008080; text-decoration-color: #008080; font-weight: bold\">generate-config        </span> Put an example config.toml file in the current directory                                <span style=\"color: #7f7f7f; text-decoration-color: #7f7f7f\">│</span>\n",
       "<span style=\"color: #7f7f7f; text-decoration-color: #7f7f7f\">│</span> <span style=\"color: #008080; text-decoration-color: #008080; font-weight: bold\">process                </span> Run a PyOPIA processing pipeline based on given a config.toml                           <span style=\"color: #7f7f7f; text-decoration-color: #7f7f7f\">│</span>\n",
       "<span style=\"color: #7f7f7f; text-decoration-color: #7f7f7f\">╰─────────────────────────────────────────────────────────────────────────────────────────────────────────────────╯</span>\n",
       "</pre>\n"
      ],
      "text/plain": [
       "\u001b[2m╭─\u001b[0m\u001b[2m Commands \u001b[0m\u001b[2m─────────────────────────────────────────────────────────────────────────────────────────────────────\u001b[0m\u001b[2m─╮\u001b[0m\n",
       "\u001b[2m│\u001b[0m \u001b[1;36mdocs                  \u001b[0m\u001b[1;36m \u001b[0m Open browser at PyOPIA's readthedocs page                                               \u001b[2m│\u001b[0m\n",
       "\u001b[2m│\u001b[0m \u001b[1;36mgenerate-config       \u001b[0m\u001b[1;36m \u001b[0m Put an example config.toml file in the current directory                                \u001b[2m│\u001b[0m\n",
       "\u001b[2m│\u001b[0m \u001b[1;36mprocess               \u001b[0m\u001b[1;36m \u001b[0m Run a PyOPIA processing pipeline based on given a config.toml                           \u001b[2m│\u001b[0m\n",
       "\u001b[2m╰─────────────────────────────────────────────────────────────────────────────────────────────────────────────────╯\u001b[0m\n"
      ]
     },
     "metadata": {},
     "output_type": "display_data"
    },
    {
     "name": "stdout",
     "output_type": "stream",
     "text": [
      "\n",
      "\n"
     ]
    }
   ],
   "source": [
    "from typer.testing import CliRunner\n",
    "\n",
    "from pyopia.cli import app\n",
    "\n",
    "runner = CliRunner()\n",
    "\n",
    "result = runner.invoke(app, [\"--help\"])\n",
    "print(result.stdout)"
   ]
  },
  {
   "cell_type": "markdown",
   "id": "4fc3c40c",
   "metadata": {},
   "source": [
    "## Generate a config file for runnning a processing pipeline\n",
    "\n",
    "`pyopia generate-config` Will put an example config.toml file in the current directory.\n",
    "Some elements of the pipelines are instrument specific, so either `silcam` or `holo` must be specified. In future, we will add a generic pipline that uses a an imread function that can load most image types - for the moement, though you will need to setup your own pipeline config if you are not using a silcam or holo pipeline.\n",
    "\n",
    "Generate a config for a silcam pipeline:\n",
    "```\n",
    "pyopia generate-config silcam rawdatapath/*.silc modelpath/keras_model.h5 proc_folder_path testdata\n",
    "```\n",
    "\n",
    "Generate a config for a holo pipeline:\n",
    "```\n",
    "pyopia generate-config holo rawdatapath/*.pgm modelpath/keras_model.h5 proc_folder_path testdata\n",
    "```"
   ]
  },
  {
   "cell_type": "markdown",
   "id": "e9b09db2",
   "metadata": {},
   "source": [
    "# pyopia process\n",
    "\n",
    "To run a processing pipeline on a dataset using the settings in a config.toml file:\n",
    "\n",
    "```\n",
    "pyopia process config.toml\n",
    "```"
   ]
  }
 ],
 "metadata": {
  "kernelspec": {
   "display_name": "Python 3.8.13 64-bit ('pyopia')",
   "language": "python",
   "name": "python3"
  },
  "language_info": {
   "codemirror_mode": {
    "name": "ipython",
    "version": 3
   },
   "file_extension": ".py",
   "mimetype": "text/x-python",
   "name": "python",
   "nbconvert_exporter": "python",
   "pygments_lexer": "ipython3",
   "version": "3.11.5"
  },
  "vscode": {
   "interpreter": {
    "hash": "35ab0c005d63a5587fede8db5b2b16b081d9aece903d58f7211748c218ea86a0"
   }
  }
 },
 "nbformat": 4,
 "nbformat_minor": 5
}
