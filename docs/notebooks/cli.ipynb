{
 "cells": [
  {
   "attachments": {},
   "cell_type": "markdown",
   "id": "5f233aad",
   "metadata": {},
   "source": [
    "# Command line tools\n",
    "\n",
    "How to use PyOPIA on the command line.\n",
    "\n",
    "This is useful for routine tasks, such as processing larger datasets."
   ]
  },
  {
   "cell_type": "code",
   "execution_count": 1,
   "id": "1c889a56",
   "metadata": {
    "tags": [
     "remove_cell"
    ]
   },
   "outputs": [],
   "source": [
    "import numpy as np\n",
    "import matplotlib.pyplot as plt\n",
    "import pandas as pd\n",
    "import os\n",
    "\n",
    "import pyopia.classify\n",
    "import pyopia.process\n",
    "import pyopia.statistics\n",
    "import pyopia.pipeline\n",
    "import pyopia.instrument.silcam\n",
    "import pyopia.io\n",
    "import pyopia.tests.testdata"
   ]
  },
  {
   "cell_type": "markdown",
   "id": "a7631a9b",
   "metadata": {},
   "source": [
    "## Get help\n",
    "\n",
    "To get a print a basic outline of available commands and what they do:\n",
    "\n",
    "```\n",
    "pyopia --help\n",
    "```\n",
    "\n",
    "For more detailed help, refer to this documentation (you can load this py typing: `pyopia docs` into the command line)"
   ]
  },
  {
   "cell_type": "markdown",
   "id": "4fc3c40c",
   "metadata": {},
   "source": [
    "## Generate a config file for runnning a processing pipeline\n",
    "\n",
    "`pyopia generate-config` Will put an example config.toml file in the current directory.\n",
    "Some elements of the pipelines are instrument specific, so either `silcam` or `holo` must be specified.\n",
    "\n",
    "Generate a config for a holo pipeline:\n",
    "```\n",
    "pyopia generate-config holo rawdatapath/*.silc modelpath/keras_model.h5 proc_folder_path testdata\n",
    "```\n",
    "\n",
    "Generate a config for a silcam pipeline:\n",
    "```\n",
    "pyopia generate-config silcam rawdatapath/*.pgm modelpath/keras_model.h5 proc_folder_path testdata\n",
    "```"
   ]
  },
  {
   "cell_type": "markdown",
   "id": "e9b09db2",
   "metadata": {},
   "source": [
    "# pyopia process\n",
    "\n",
    "To run a processing pipeline on a dataset using the settings in a config.toml file:\n",
    "\n",
    "```\n",
    "pyopia process config.toml\n",
    "```"
   ]
  }
 ],
 "metadata": {
  "kernelspec": {
   "display_name": "Python 3.8.13 64-bit ('pyopia')",
   "language": "python",
   "name": "python3"
  },
  "language_info": {
   "codemirror_mode": {
    "name": "ipython",
    "version": 3
   },
   "file_extension": ".py",
   "mimetype": "text/x-python",
   "name": "python",
   "nbconvert_exporter": "python",
   "pygments_lexer": "ipython3",
   "version": "3.10.12"
  },
  "vscode": {
   "interpreter": {
    "hash": "35ab0c005d63a5587fede8db5b2b16b081d9aece903d58f7211748c218ea86a0"
   }
  }
 },
 "nbformat": 4,
 "nbformat_minor": 5
}
