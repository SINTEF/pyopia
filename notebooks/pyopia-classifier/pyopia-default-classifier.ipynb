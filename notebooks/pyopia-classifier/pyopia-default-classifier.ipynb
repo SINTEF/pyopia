{
 "cells": [
  {
   "cell_type": "markdown",
   "id": "d226c7bd",
   "metadata": {},
   "source": [
    "# Load and test PyOPIA default classifier\n",
    "* Download the default PyOPIA classifier from Azure blob storage and test on example particle images\n",
    "* This version of the PyOPIA classifier was trained on 2025-04-09\n",
    "* It was trained on 11 617 images belonging to 7 classes:\n",
    "  * bubble, copepod, diatom_chain, faecal_pellets, oil, oily_gas, other\n",
    "* The model has weighted average f1-score of 0.91 on the example images\n",
    "* Intensity normalization [0-1] was applied to some of the images in the training database, and therefore the \"normalize_intensity\" option should be used for the PyOPIA classifier initialization."
   ]
  },
  {
   "cell_type": "code",
   "execution_count": 1,
   "id": "cfd891aa",
   "metadata": {},
   "outputs": [],
   "source": [
    "!uv pip install -q ipywidgets scikit-learn"
   ]
  },
  {
   "cell_type": "code",
   "execution_count": 2,
   "id": "4f973e56",
   "metadata": {},
   "outputs": [],
   "source": [
    "import pyopia.classify\n",
    "import pyopia.exampledata\n",
    "import pyopia.plotting\n",
    "import pyopia.statistics\n",
    "import pathlib\n",
    "import numpy as np\n",
    "import matplotlib.pyplot as plt\n",
    "import seaborn as sns\n",
    "import pandas as pd\n",
    "import sklearn\n",
    "from tqdm.notebook import tqdm\n",
    "np.random.seed(42)"
   ]
  },
  {
   "cell_type": "code",
   "execution_count": null,
   "id": "81c64007",
   "metadata": {},
   "outputs": [],
   "source": [
    "def classify_plot_class_rois(class_name, classifier, filelist):\n",
    "    \"\"\"Classify single-object (ROI) images and plot images in a grid with best guess class.\n",
    "    \n",
    "    Parameters\n",
    "    ----------\n",
    "    class_name: str\n",
    "        Name of class ROI files belong to (e.g. 'copepod')\n",
    "    classifier: pyopia.classify.Classify\n",
    "        PyOPIA classifier instance\n",
    "    filelist: list\n",
    "        List of single-object (ROI) files\n",
    "\n",
    "    Returns\n",
    "    -------\n",
    "    df_: pandas.DataFrame\n",
    "        Classification info for each image\n",
    "    \"\"\"\n",
    "    # Load single-object images (ROIs)\n",
    "    roilist = [np.float64(plt.imread(f)) / 255.0 for f in filelist ]\n",
    "\n",
    "    # Classify ROIs\n",
    "    df_ = pyopia.plotting.classify_rois(roilist, classifier)\n",
    "    df_ = pyopia.statistics.add_best_guesses_to_stats(df_)\n",
    "\n",
    "    # Remove \"_probability\" from labels\n",
    "    df_ = df_.replace(\"probability_\", \"\", regex=True)\n",
    "    df_.columns = df_.columns.str.replace(\"probability_\", \"\", regex=True)\n",
    "\n",
    "    # Plot\n",
    "    fig, ax = pyopia.plotting.plot_classified_rois(roilist, df_, true_class=class_name)\n",
    "\n",
    "    # Print classification info\n",
    "    num_correct = (df_[\"best guess)\"] == class_name).sum()\n",
    "    frac_class = num_correct / df_.shape[1]\n",
    "    print(f\"Correctly identified {class_name} was {100*frac_class:.1f}% ({num_correct}/{df_.shape[1]})\")\n",
    "    fig.suptitle(f\"Class: {class_name} ({num_correct}/{df_.shape[1]}, {100*frac_class:.1f}%)\")\n",
    "\n",
    "    return df_.style.format(precision=1, decimal=\".\")"
   ]
  },
  {
   "cell_type": "markdown",
   "id": "2cfc0f2e",
   "metadata": {},
   "source": [
    "## Set up PyOPIA classifier"
   ]
  },
  {
   "cell_type": "code",
   "execution_count": 4,
   "id": "7ee1f012",
   "metadata": {},
   "outputs": [
    {
     "name": "stdout",
     "output_type": "stream",
     "text": [
      "Model path: pyopia-default-classifier-20250409.keras\n",
      "Model image input shape: (1, 64, 64, 3)\n",
      "Model class labels: ['bubble', 'copepod', 'diatom_chain', 'faecal_pellets', 'oil', 'oily_gas', 'other']\n"
     ]
    },
    {
     "data": {
      "text/html": [
       "<pre style=\"white-space:pre;overflow-x:auto;line-height:normal;font-family:Menlo,'DejaVu Sans Mono',consolas,'Courier New',monospace\"><span style=\"font-weight: bold\">Model: \"PyOPIA_main_globalmaxpool\"</span>\n",
       "</pre>\n"
      ],
      "text/plain": [
       "\u001b[1mModel: \"PyOPIA_main_globalmaxpool\"\u001b[0m\n"
      ]
     },
     "metadata": {},
     "output_type": "display_data"
    },
    {
     "data": {
      "text/html": [
       "<pre style=\"white-space:pre;overflow-x:auto;line-height:normal;font-family:Menlo,'DejaVu Sans Mono',consolas,'Courier New',monospace\">┏━━━━━━━━━━━━━━━━━━━━━━━━━━━━━━━━━┳━━━━━━━━━━━━━━━━━━━━━━━━┳━━━━━━━━━━━━━━━┓\n",
       "┃<span style=\"font-weight: bold\"> Layer (type)                    </span>┃<span style=\"font-weight: bold\"> Output Shape           </span>┃<span style=\"font-weight: bold\">       Param # </span>┃\n",
       "┡━━━━━━━━━━━━━━━━━━━━━━━━━━━━━━━━━╇━━━━━━━━━━━━━━━━━━━━━━━━╇━━━━━━━━━━━━━━━┩\n",
       "│ resizing (<span style=\"color: #0087ff; text-decoration-color: #0087ff\">Resizing</span>)             │ (<span style=\"color: #00af00; text-decoration-color: #00af00\">1</span>, <span style=\"color: #00af00; text-decoration-color: #00af00\">64</span>, <span style=\"color: #00af00; text-decoration-color: #00af00\">64</span>, <span style=\"color: #00af00; text-decoration-color: #00af00\">3</span>)         │             <span style=\"color: #00af00; text-decoration-color: #00af00\">0</span> │\n",
       "├─────────────────────────────────┼────────────────────────┼───────────────┤\n",
       "│ rescaling (<span style=\"color: #0087ff; text-decoration-color: #0087ff\">Rescaling</span>)           │ (<span style=\"color: #00af00; text-decoration-color: #00af00\">1</span>, <span style=\"color: #00af00; text-decoration-color: #00af00\">64</span>, <span style=\"color: #00af00; text-decoration-color: #00af00\">64</span>, <span style=\"color: #00af00; text-decoration-color: #00af00\">3</span>)         │             <span style=\"color: #00af00; text-decoration-color: #00af00\">0</span> │\n",
       "├─────────────────────────────────┼────────────────────────┼───────────────┤\n",
       "│ conv2d (<span style=\"color: #0087ff; text-decoration-color: #0087ff\">Conv2D</span>)                 │ (<span style=\"color: #00af00; text-decoration-color: #00af00\">1</span>, <span style=\"color: #00af00; text-decoration-color: #00af00\">64</span>, <span style=\"color: #00af00; text-decoration-color: #00af00\">64</span>, <span style=\"color: #00af00; text-decoration-color: #00af00\">32</span>)        │           <span style=\"color: #00af00; text-decoration-color: #00af00\">896</span> │\n",
       "├─────────────────────────────────┼────────────────────────┼───────────────┤\n",
       "│ max_pooling2d (<span style=\"color: #0087ff; text-decoration-color: #0087ff\">MaxPooling2D</span>)    │ (<span style=\"color: #00af00; text-decoration-color: #00af00\">1</span>, <span style=\"color: #00af00; text-decoration-color: #00af00\">32</span>, <span style=\"color: #00af00; text-decoration-color: #00af00\">32</span>, <span style=\"color: #00af00; text-decoration-color: #00af00\">32</span>)        │             <span style=\"color: #00af00; text-decoration-color: #00af00\">0</span> │\n",
       "├─────────────────────────────────┼────────────────────────┼───────────────┤\n",
       "│ conv2d_1 (<span style=\"color: #0087ff; text-decoration-color: #0087ff\">Conv2D</span>)               │ (<span style=\"color: #00af00; text-decoration-color: #00af00\">1</span>, <span style=\"color: #00af00; text-decoration-color: #00af00\">32</span>, <span style=\"color: #00af00; text-decoration-color: #00af00\">32</span>, <span style=\"color: #00af00; text-decoration-color: #00af00\">64</span>)        │        <span style=\"color: #00af00; text-decoration-color: #00af00\">18,496</span> │\n",
       "├─────────────────────────────────┼────────────────────────┼───────────────┤\n",
       "│ conv2d_2 (<span style=\"color: #0087ff; text-decoration-color: #0087ff\">Conv2D</span>)               │ (<span style=\"color: #00af00; text-decoration-color: #00af00\">1</span>, <span style=\"color: #00af00; text-decoration-color: #00af00\">32</span>, <span style=\"color: #00af00; text-decoration-color: #00af00\">32</span>, <span style=\"color: #00af00; text-decoration-color: #00af00\">64</span>)        │        <span style=\"color: #00af00; text-decoration-color: #00af00\">36,928</span> │\n",
       "├─────────────────────────────────┼────────────────────────┼───────────────┤\n",
       "│ conv2d_3 (<span style=\"color: #0087ff; text-decoration-color: #0087ff\">Conv2D</span>)               │ (<span style=\"color: #00af00; text-decoration-color: #00af00\">1</span>, <span style=\"color: #00af00; text-decoration-color: #00af00\">32</span>, <span style=\"color: #00af00; text-decoration-color: #00af00\">32</span>, <span style=\"color: #00af00; text-decoration-color: #00af00\">64</span>)        │        <span style=\"color: #00af00; text-decoration-color: #00af00\">36,928</span> │\n",
       "├─────────────────────────────────┼────────────────────────┼───────────────┤\n",
       "│ conv2d_4 (<span style=\"color: #0087ff; text-decoration-color: #0087ff\">Conv2D</span>)               │ (<span style=\"color: #00af00; text-decoration-color: #00af00\">1</span>, <span style=\"color: #00af00; text-decoration-color: #00af00\">32</span>, <span style=\"color: #00af00; text-decoration-color: #00af00\">32</span>, <span style=\"color: #00af00; text-decoration-color: #00af00\">64</span>)        │        <span style=\"color: #00af00; text-decoration-color: #00af00\">36,928</span> │\n",
       "├─────────────────────────────────┼────────────────────────┼───────────────┤\n",
       "│ conv2d_5 (<span style=\"color: #0087ff; text-decoration-color: #0087ff\">Conv2D</span>)               │ (<span style=\"color: #00af00; text-decoration-color: #00af00\">1</span>, <span style=\"color: #00af00; text-decoration-color: #00af00\">32</span>, <span style=\"color: #00af00; text-decoration-color: #00af00\">32</span>, <span style=\"color: #00af00; text-decoration-color: #00af00\">64</span>)        │        <span style=\"color: #00af00; text-decoration-color: #00af00\">36,928</span> │\n",
       "├─────────────────────────────────┼────────────────────────┼───────────────┤\n",
       "│ global_max_pooling2d            │ (<span style=\"color: #00af00; text-decoration-color: #00af00\">1</span>, <span style=\"color: #00af00; text-decoration-color: #00af00\">64</span>)                │             <span style=\"color: #00af00; text-decoration-color: #00af00\">0</span> │\n",
       "│ (<span style=\"color: #0087ff; text-decoration-color: #0087ff\">GlobalMaxPooling2D</span>)            │                        │               │\n",
       "├─────────────────────────────────┼────────────────────────┼───────────────┤\n",
       "│ dense (<span style=\"color: #0087ff; text-decoration-color: #0087ff\">Dense</span>)                   │ (<span style=\"color: #00af00; text-decoration-color: #00af00\">1</span>, <span style=\"color: #00af00; text-decoration-color: #00af00\">512</span>)               │        <span style=\"color: #00af00; text-decoration-color: #00af00\">33,280</span> │\n",
       "├─────────────────────────────────┼────────────────────────┼───────────────┤\n",
       "│ dropout (<span style=\"color: #0087ff; text-decoration-color: #0087ff\">Dropout</span>)               │ (<span style=\"color: #00af00; text-decoration-color: #00af00\">1</span>, <span style=\"color: #00af00; text-decoration-color: #00af00\">512</span>)               │             <span style=\"color: #00af00; text-decoration-color: #00af00\">0</span> │\n",
       "├─────────────────────────────────┼────────────────────────┼───────────────┤\n",
       "│ bubble.copepod.diatom_chain.fa… │ (<span style=\"color: #00af00; text-decoration-color: #00af00\">1</span>, <span style=\"color: #00af00; text-decoration-color: #00af00\">7</span>)                 │         <span style=\"color: #00af00; text-decoration-color: #00af00\">3,591</span> │\n",
       "│ (<span style=\"color: #0087ff; text-decoration-color: #0087ff\">Dense</span>)                         │                        │               │\n",
       "└─────────────────────────────────┴────────────────────────┴───────────────┘\n",
       "</pre>\n"
      ],
      "text/plain": [
       "┏━━━━━━━━━━━━━━━━━━━━━━━━━━━━━━━━━┳━━━━━━━━━━━━━━━━━━━━━━━━┳━━━━━━━━━━━━━━━┓\n",
       "┃\u001b[1m \u001b[0m\u001b[1mLayer (type)                   \u001b[0m\u001b[1m \u001b[0m┃\u001b[1m \u001b[0m\u001b[1mOutput Shape          \u001b[0m\u001b[1m \u001b[0m┃\u001b[1m \u001b[0m\u001b[1m      Param #\u001b[0m\u001b[1m \u001b[0m┃\n",
       "┡━━━━━━━━━━━━━━━━━━━━━━━━━━━━━━━━━╇━━━━━━━━━━━━━━━━━━━━━━━━╇━━━━━━━━━━━━━━━┩\n",
       "│ resizing (\u001b[38;5;33mResizing\u001b[0m)             │ (\u001b[38;5;34m1\u001b[0m, \u001b[38;5;34m64\u001b[0m, \u001b[38;5;34m64\u001b[0m, \u001b[38;5;34m3\u001b[0m)         │             \u001b[38;5;34m0\u001b[0m │\n",
       "├─────────────────────────────────┼────────────────────────┼───────────────┤\n",
       "│ rescaling (\u001b[38;5;33mRescaling\u001b[0m)           │ (\u001b[38;5;34m1\u001b[0m, \u001b[38;5;34m64\u001b[0m, \u001b[38;5;34m64\u001b[0m, \u001b[38;5;34m3\u001b[0m)         │             \u001b[38;5;34m0\u001b[0m │\n",
       "├─────────────────────────────────┼────────────────────────┼───────────────┤\n",
       "│ conv2d (\u001b[38;5;33mConv2D\u001b[0m)                 │ (\u001b[38;5;34m1\u001b[0m, \u001b[38;5;34m64\u001b[0m, \u001b[38;5;34m64\u001b[0m, \u001b[38;5;34m32\u001b[0m)        │           \u001b[38;5;34m896\u001b[0m │\n",
       "├─────────────────────────────────┼────────────────────────┼───────────────┤\n",
       "│ max_pooling2d (\u001b[38;5;33mMaxPooling2D\u001b[0m)    │ (\u001b[38;5;34m1\u001b[0m, \u001b[38;5;34m32\u001b[0m, \u001b[38;5;34m32\u001b[0m, \u001b[38;5;34m32\u001b[0m)        │             \u001b[38;5;34m0\u001b[0m │\n",
       "├─────────────────────────────────┼────────────────────────┼───────────────┤\n",
       "│ conv2d_1 (\u001b[38;5;33mConv2D\u001b[0m)               │ (\u001b[38;5;34m1\u001b[0m, \u001b[38;5;34m32\u001b[0m, \u001b[38;5;34m32\u001b[0m, \u001b[38;5;34m64\u001b[0m)        │        \u001b[38;5;34m18,496\u001b[0m │\n",
       "├─────────────────────────────────┼────────────────────────┼───────────────┤\n",
       "│ conv2d_2 (\u001b[38;5;33mConv2D\u001b[0m)               │ (\u001b[38;5;34m1\u001b[0m, \u001b[38;5;34m32\u001b[0m, \u001b[38;5;34m32\u001b[0m, \u001b[38;5;34m64\u001b[0m)        │        \u001b[38;5;34m36,928\u001b[0m │\n",
       "├─────────────────────────────────┼────────────────────────┼───────────────┤\n",
       "│ conv2d_3 (\u001b[38;5;33mConv2D\u001b[0m)               │ (\u001b[38;5;34m1\u001b[0m, \u001b[38;5;34m32\u001b[0m, \u001b[38;5;34m32\u001b[0m, \u001b[38;5;34m64\u001b[0m)        │        \u001b[38;5;34m36,928\u001b[0m │\n",
       "├─────────────────────────────────┼────────────────────────┼───────────────┤\n",
       "│ conv2d_4 (\u001b[38;5;33mConv2D\u001b[0m)               │ (\u001b[38;5;34m1\u001b[0m, \u001b[38;5;34m32\u001b[0m, \u001b[38;5;34m32\u001b[0m, \u001b[38;5;34m64\u001b[0m)        │        \u001b[38;5;34m36,928\u001b[0m │\n",
       "├─────────────────────────────────┼────────────────────────┼───────────────┤\n",
       "│ conv2d_5 (\u001b[38;5;33mConv2D\u001b[0m)               │ (\u001b[38;5;34m1\u001b[0m, \u001b[38;5;34m32\u001b[0m, \u001b[38;5;34m32\u001b[0m, \u001b[38;5;34m64\u001b[0m)        │        \u001b[38;5;34m36,928\u001b[0m │\n",
       "├─────────────────────────────────┼────────────────────────┼───────────────┤\n",
       "│ global_max_pooling2d            │ (\u001b[38;5;34m1\u001b[0m, \u001b[38;5;34m64\u001b[0m)                │             \u001b[38;5;34m0\u001b[0m │\n",
       "│ (\u001b[38;5;33mGlobalMaxPooling2D\u001b[0m)            │                        │               │\n",
       "├─────────────────────────────────┼────────────────────────┼───────────────┤\n",
       "│ dense (\u001b[38;5;33mDense\u001b[0m)                   │ (\u001b[38;5;34m1\u001b[0m, \u001b[38;5;34m512\u001b[0m)               │        \u001b[38;5;34m33,280\u001b[0m │\n",
       "├─────────────────────────────────┼────────────────────────┼───────────────┤\n",
       "│ dropout (\u001b[38;5;33mDropout\u001b[0m)               │ (\u001b[38;5;34m1\u001b[0m, \u001b[38;5;34m512\u001b[0m)               │             \u001b[38;5;34m0\u001b[0m │\n",
       "├─────────────────────────────────┼────────────────────────┼───────────────┤\n",
       "│ bubble.copepod.diatom_chain.fa… │ (\u001b[38;5;34m1\u001b[0m, \u001b[38;5;34m7\u001b[0m)                 │         \u001b[38;5;34m3,591\u001b[0m │\n",
       "│ (\u001b[38;5;33mDense\u001b[0m)                         │                        │               │\n",
       "└─────────────────────────────────┴────────────────────────┴───────────────┘\n"
      ]
     },
     "metadata": {},
     "output_type": "display_data"
    },
    {
     "data": {
      "text/html": [
       "<pre style=\"white-space:pre;overflow-x:auto;line-height:normal;font-family:Menlo,'DejaVu Sans Mono',consolas,'Courier New',monospace\"><span style=\"font-weight: bold\"> Total params: </span><span style=\"color: #00af00; text-decoration-color: #00af00\">611,926</span> (2.33 MB)\n",
       "</pre>\n"
      ],
      "text/plain": [
       "\u001b[1m Total params: \u001b[0m\u001b[38;5;34m611,926\u001b[0m (2.33 MB)\n"
      ]
     },
     "metadata": {},
     "output_type": "display_data"
    },
    {
     "data": {
      "text/html": [
       "<pre style=\"white-space:pre;overflow-x:auto;line-height:normal;font-family:Menlo,'DejaVu Sans Mono',consolas,'Courier New',monospace\"><span style=\"font-weight: bold\"> Trainable params: </span><span style=\"color: #00af00; text-decoration-color: #00af00\">203,975</span> (796.78 KB)\n",
       "</pre>\n"
      ],
      "text/plain": [
       "\u001b[1m Trainable params: \u001b[0m\u001b[38;5;34m203,975\u001b[0m (796.78 KB)\n"
      ]
     },
     "metadata": {},
     "output_type": "display_data"
    },
    {
     "data": {
      "text/html": [
       "<pre style=\"white-space:pre;overflow-x:auto;line-height:normal;font-family:Menlo,'DejaVu Sans Mono',consolas,'Courier New',monospace\"><span style=\"font-weight: bold\"> Non-trainable params: </span><span style=\"color: #00af00; text-decoration-color: #00af00\">0</span> (0.00 B)\n",
       "</pre>\n"
      ],
      "text/plain": [
       "\u001b[1m Non-trainable params: \u001b[0m\u001b[38;5;34m0\u001b[0m (0.00 B)\n"
      ]
     },
     "metadata": {},
     "output_type": "display_data"
    },
    {
     "data": {
      "text/html": [
       "<pre style=\"white-space:pre;overflow-x:auto;line-height:normal;font-family:Menlo,'DejaVu Sans Mono',consolas,'Courier New',monospace\"><span style=\"font-weight: bold\"> Optimizer params: </span><span style=\"color: #00af00; text-decoration-color: #00af00\">407,951</span> (1.56 MB)\n",
       "</pre>\n"
      ],
      "text/plain": [
       "\u001b[1m Optimizer params: \u001b[0m\u001b[38;5;34m407,951\u001b[0m (1.56 MB)\n"
      ]
     },
     "metadata": {},
     "output_type": "display_data"
    }
   ],
   "source": [
    "model_path = pyopia.exampledata.get_example_model()\n",
    "print(f\"Model path: {model_path}\")\n",
    "classifier = pyopia.classify.Classify(model_path=model_path, normalize_intensity=True)\n",
    "\n",
    "_, img_height, img_width, _ = classifier.model.get_config()['layers'][0]['config']['batch_shape']\n",
    "class_labels = classifier.model.layers[-1].name.split('.')\n",
    "print(\"Model image input shape:\", classifier.model.input_shape)\n",
    "print(\"Model class labels:\", class_labels)\n",
    "\n",
    "classifier.model.summary()\n"
   ]
  },
  {
   "cell_type": "markdown",
   "id": "12ea36a4",
   "metadata": {},
   "source": [
    "## Download and index database images and labels"
   ]
  },
  {
   "cell_type": "code",
   "execution_count": 5,
   "id": "d5021261",
   "metadata": {},
   "outputs": [
    {
     "name": "stdout",
     "output_type": "stream",
     "text": [
      "{'bubble': 2636, 'copepod': 657, 'diatom_chain': 850, 'faecal_pellets': 514, 'oil': 671, 'oily_gas': 479, 'other': 1931}\n"
     ]
    }
   ],
   "source": [
    "pyopia.exampledata.get_classifier_database_from_pysilcam_blob() \n",
    "db_path = pathlib.Path(\"silcam_classification_database\")\n",
    "\n",
    "class_imgs = dict()\n",
    "class_imgs_num = dict()\n",
    "for cl in class_labels:\n",
    "    class_imgs[cl] = sorted(list(pathlib.Path(db_path, cl).glob(\"*.tiff\")))\n",
    "    class_imgs_num[cl] = len(class_imgs[cl])\n",
    "print(class_imgs_num)"
   ]
  },
  {
   "cell_type": "markdown",
   "id": "cecfc4cf",
   "metadata": {},
   "source": [
    "## Load and predict image classes to show confusion matrix "
   ]
  },
  {
   "cell_type": "code",
   "execution_count": 6,
   "id": "c3429492",
   "metadata": {},
   "outputs": [
    {
     "data": {
      "application/vnd.jupyter.widget-view+json": {
       "model_id": "5f4d98e680ba4a0fb12672df09d3e336",
       "version_major": 2,
       "version_minor": 0
      },
      "text/plain": [
       "Processing bubble:   0%|          | 0/2636 [00:00<?, ?it/s]"
      ]
     },
     "metadata": {},
     "output_type": "display_data"
    },
    {
     "name": "stdout",
     "output_type": "stream",
     "text": [
      "WARNING:tensorflow:5 out of the last 6 calls to <function Classify.predict at 0x3153be840> triggered tf.function retracing. Tracing is expensive and the excessive number of tracings could be due to (1) creating @tf.function repeatedly in a loop, (2) passing tensors with different shapes, (3) passing Python objects instead of tensors. For (1), please define your @tf.function outside of the loop. For (2), @tf.function has reduce_retracing=True option that can avoid unnecessary retracing. For (3), please refer to https://www.tensorflow.org/guide/function#controlling_retracing and https://www.tensorflow.org/api_docs/python/tf/function for  more details.\n",
      "WARNING:tensorflow:6 out of the last 7 calls to <function Classify.predict at 0x3153be840> triggered tf.function retracing. Tracing is expensive and the excessive number of tracings could be due to (1) creating @tf.function repeatedly in a loop, (2) passing tensors with different shapes, (3) passing Python objects instead of tensors. For (1), please define your @tf.function outside of the loop. For (2), @tf.function has reduce_retracing=True option that can avoid unnecessary retracing. For (3), please refer to https://www.tensorflow.org/guide/function#controlling_retracing and https://www.tensorflow.org/api_docs/python/tf/function for  more details.\n"
     ]
    },
    {
     "data": {
      "application/vnd.jupyter.widget-view+json": {
       "model_id": "637759ed036e46f2bef679cf6e97244f",
       "version_major": 2,
       "version_minor": 0
      },
      "text/plain": [
       "Processing copepod:   0%|          | 0/657 [00:00<?, ?it/s]"
      ]
     },
     "metadata": {},
     "output_type": "display_data"
    },
    {
     "data": {
      "application/vnd.jupyter.widget-view+json": {
       "model_id": "16e5920091fe4de8a605dde7e6b575a8",
       "version_major": 2,
       "version_minor": 0
      },
      "text/plain": [
       "Processing diatom_chain:   0%|          | 0/850 [00:00<?, ?it/s]"
      ]
     },
     "metadata": {},
     "output_type": "display_data"
    },
    {
     "data": {
      "application/vnd.jupyter.widget-view+json": {
       "model_id": "ac8a7a7a09b643a0b9f9859327a79161",
       "version_major": 2,
       "version_minor": 0
      },
      "text/plain": [
       "Processing faecal_pellets:   0%|          | 0/514 [00:00<?, ?it/s]"
      ]
     },
     "metadata": {},
     "output_type": "display_data"
    },
    {
     "data": {
      "application/vnd.jupyter.widget-view+json": {
       "model_id": "c3e445fe9b0a49938a5f03425b753126",
       "version_major": 2,
       "version_minor": 0
      },
      "text/plain": [
       "Processing oil:   0%|          | 0/671 [00:00<?, ?it/s]"
      ]
     },
     "metadata": {},
     "output_type": "display_data"
    },
    {
     "data": {
      "application/vnd.jupyter.widget-view+json": {
       "model_id": "65b61b2175d94de28d799ef14c18d3ec",
       "version_major": 2,
       "version_minor": 0
      },
      "text/plain": [
       "Processing oily_gas:   0%|          | 0/479 [00:00<?, ?it/s]"
      ]
     },
     "metadata": {},
     "output_type": "display_data"
    },
    {
     "data": {
      "application/vnd.jupyter.widget-view+json": {
       "model_id": "8589c1b722d94b85bb31c25e8d94915e",
       "version_major": 2,
       "version_minor": 0
      },
      "text/plain": [
       "Processing other:   0%|          | 0/1931 [00:00<?, ?it/s]"
      ]
     },
     "metadata": {},
     "output_type": "display_data"
    }
   ],
   "source": [
    "ypred = []\n",
    "true_categories = []\n",
    "for i, cl in enumerate(class_labels):\n",
    "    for roifile in tqdm(class_imgs[cl], desc=f\"Processing {cl}\"):\n",
    "        img = np.float64(plt.imread(roifile)) / 255.\n",
    "        prediction = classifier.proc_predict(img)\n",
    "        class_maxprob = np.argmax(prediction)\n",
    "        label_maxprob = class_labels[class_maxprob]\n",
    "        ypred.append(class_maxprob)\n",
    "        true_categories.append(i)"
   ]
  },
  {
   "cell_type": "markdown",
   "id": "881ea549",
   "metadata": {},
   "source": [
    "### Confusion matrix\n",
    "* Diagonal value indicate percent correctly (true positive) classified particles for that class, here the range is 61-99%.\n",
    "* The \"oily_gas\" class has the lowest accuracy at 61%, with common misclassification into either the \"oil\" or \"bubble\" classes\n",
    "* The \"other\" class contains the most diverse set of particles, and has an accuracy of 75%\n",
    "  * Misclassification spread across the other classes, the most common is \"faecal_pellets\" at 8.4%\n",
    "* The remaining classes has accuracies above 92%.\n",
    "* f1-scores per class range from 69 - 97 %"
   ]
  },
  {
   "cell_type": "code",
   "execution_count": 7,
   "id": "38a3c02c",
   "metadata": {},
   "outputs": [
    {
     "data": {
      "text/plain": [
       "Text(95.58159722222221, 0.5, 'True label')"
      ]
     },
     "execution_count": 7,
     "metadata": {},
     "output_type": "execute_result"
    },
    {
     "data": {
      "image/png": "[encoded data removed]",
      "text/plain": [
       "<Figure size 1000x1000 with 2 Axes>"
      ]
     },
     "metadata": {},
     "output_type": "display_data"
    }
   ],
   "source": [
    "cm = 100 * sklearn.metrics.confusion_matrix(true_categories, ypred, normalize=\"true\")\n",
    "cm = pd.DataFrame(cm, index=class_labels, columns=class_labels)\n",
    "plt.figure(figsize=(10, 10))\n",
    "sns.heatmap(cm, annot=True, annot_kws={\"size\": 12}, vmin=0, vmax=100)  # font size\n",
    "plt.xlabel(\"Predicted label\")\n",
    "plt.ylabel(\"True label\")"
   ]
  },
  {
   "cell_type": "markdown",
   "id": "d6d510c5",
   "metadata": {},
   "source": [
    "### Classification report"
   ]
  },
  {
   "cell_type": "code",
   "execution_count": 8,
   "id": "1abad870",
   "metadata": {},
   "outputs": [
    {
     "name": "stdout",
     "output_type": "stream",
     "text": [
      "                precision    recall  f1-score   support\n",
      "\n",
      "        bubble       0.95      0.99      0.97      2636\n",
      "       copepod       0.86      0.93      0.89       657\n",
      "  diatom_chain       0.85      0.92      0.89       850\n",
      "faecal_pellets       0.73      0.93      0.82       514\n",
      "           oil       0.84      0.96      0.90       671\n",
      "      oily_gas       0.81      0.61      0.69       479\n",
      "         other       0.91      0.75      0.82      1931\n",
      "\n",
      "      accuracy                           0.89      7738\n",
      "     macro avg       0.85      0.87      0.85      7738\n",
      "  weighted avg       0.89      0.89      0.88      7738\n",
      "\n"
     ]
    }
   ],
   "source": [
    "cl_report = sklearn.metrics.classification_report(true_categories, ypred, target_names=class_labels)\n",
    "print(cl_report)"
   ]
  },
  {
   "cell_type": "markdown",
   "id": "269bd359",
   "metadata": {},
   "source": [
    "## Classify subset of images from each class and plot each prediction"
   ]
  },
  {
   "cell_type": "code",
   "execution_count": null,
   "id": "a75e7a72",
   "metadata": {},
   "outputs": [
    {
     "ename": "NameError",
     "evalue": "name 'class_name' is not defined",
     "output_type": "error",
     "traceback": [
      "\u001b[31m---------------------------------------------------------------------------\u001b[39m",
      "\u001b[31mNameError\u001b[39m                                 Traceback (most recent call last)",
      "\u001b[36mCell\u001b[39m\u001b[36m \u001b[39m\u001b[32mIn[9]\u001b[39m\u001b[32m, line 2\u001b[39m\n\u001b[32m      1\u001b[39m \u001b[38;5;28;01mfor\u001b[39;00m cl \u001b[38;5;129;01min\u001b[39;00m class_imgs.keys():\n\u001b[32m----> \u001b[39m\u001b[32m2\u001b[39m     filelist = class_imgs[\u001b[43mclass_name\u001b[49m]\n\u001b[32m      3\u001b[39m     classify_plot_class_rois(cl, classifier, class_imgs, num_images=\u001b[32m15\u001b[39m*\u001b[32m7\u001b[39m)\n",
      "\u001b[31mNameError\u001b[39m: name 'class_name' is not defined"
     ]
    }
   ],
   "source": [
    "for cl in class_imgs.keys():\n",
    "    filelist = np.random.choice(class_imgs[cl], 15*7)\n",
    "    classify_plot_class_rois(cl, classifier, class_imgs)"
   ]
  }
 ],
 "metadata": {
  "kernelspec": {
   "display_name": ".venv",
   "language": "python",
   "name": "python3"
  },
  "language_info": {
   "codemirror_mode": {
    "name": "ipython",
    "version": 3
   },
   "file_extension": ".py",
   "mimetype": "text/x-python",
   "name": "python",
   "nbconvert_exporter": "python",
   "pygments_lexer": "ipython3",
   "version": "3.12.0"
  }
 },
 "nbformat": 4,
 "nbformat_minor": 5
}
