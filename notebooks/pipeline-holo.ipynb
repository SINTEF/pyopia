{
 "cells": [
  {
   "attachments": {},
   "cell_type": "markdown",
   "metadata": {},
   "source": [
    "#Example hologram processing pipeline"
   ]
  },
  {
   "cell_type": "code",
   "execution_count": 1,
   "metadata": {},
   "outputs": [],
   "source": [
    "import warnings\n",
    "warnings.filterwarnings('ignore')"
   ]
  },
  {
   "cell_type": "code",
   "execution_count": 2,
   "metadata": {},
   "outputs": [],
   "source": [
    "%load_ext autoreload\n",
    "%autoreload 2\n",
    "\n",
    "import pandas as pd\n",
    "from glob import glob\n",
    "import os\n",
    "\n",
    "from pyopia.classify import Classify\n",
    "import pyopia.process\n",
    "import pyopia.io\n",
    "import pyopia.background\n",
    "import exampledata\n",
    "from pyopia.pipeline import Pipeline\n",
    "import pyopia.instrument.holo as holo"
   ]
  },
  {
   "cell_type": "code",
   "execution_count": 38,
   "metadata": {},
   "outputs": [],
   "source": [
    "#download the default holo test data and create file list\n",
    "foldername = exampledata.get_folder_from_holo_repository()\n"
   ]
  },
  {
   "cell_type": "code",
   "execution_count": 9,
   "metadata": {},
   "outputs": [
    {
     "name": "stdout",
     "output_type": "stream",
     "text": [
      "Initialising pipeline\n",
      "  Running <pyopia.instrument.holo.Initial object at 0x7fb2fc823df0>\n",
      "Using first raw file to determine image dimensions\n",
      "Build kernel\n",
      "HoloInitial done 2023-01-11 18:58:40.894131\n",
      "  Running <pyopia.classify.Classify object at 0x7fb2fc823c10>\n",
      "Pipeline ready with these data:  ['kern', 'cl']\n"
     ]
    }
   ],
   "source": [
    "# example future pre-processing admin:\n",
    "# 1) config file config load\n",
    "# 2) build steps dict from loaded file\n",
    "# 3) establish non-processing related metadata\n",
    "\n",
    "os.makedirs('proc', exist_ok=True)\n",
    "\n",
    "datafile_hdf = 'proc/holotest'\n",
    "model_path = exampledata.get_example_model()\n",
    "threshold = 0.9\n",
    "\n",
    "average_window = 10  # number of images to use as background\n",
    "\n",
    "files = glob(os.path.join(foldername, '*.pgm'))\n",
    "bgfiles = files[:average_window] \n",
    "\n",
    "holo_initial_settings = {'pixel_size': 4.4, # pixel size in um\n",
    "                        'wavelength': 658, # laser wavelength in nm\n",
    "                        'minZ': 22, # minimum reconstruction distance in mm\n",
    "                        'maxZ': 60, # maximum reconstruction distance in mm\n",
    "                        'stepZ': 2} #step size in mm\n",
    "\n",
    "steps = {'initial': holo.Initial(files[0], **holo_initial_settings),\n",
    "         'classifier': Classify(model_path=model_path),\n",
    "         'create background': pyopia.background.CreateBackground(bgfiles,\n",
    "                                                                 pyopia.instrument.holo.load_image),\n",
    "         'load': holo.Load(),\n",
    "         'correct background': pyopia.background.CorrectBackgroundAccurate(pyopia.background.shift_bgstack_accurate),\n",
    "         'reconstruct': holo.Reconstruct(stack_clean=0),\n",
    "         'segmentation': pyopia.process.Segment(threshold=threshold),\n",
    "         'statextract': pyopia.process.CalculateStats(),\n",
    "         'output': pyopia.io.StatsH5(datafile_hdf)}\n",
    "\n",
    "processing_pipeline = Pipeline(steps)\n"
   ]
  },
  {
   "cell_type": "code",
   "execution_count": 11,
   "metadata": {},
   "outputs": [
    {
     "name": "stdout",
     "output_type": "stream",
     "text": [
      "calling:  <class 'pyopia.background.CreateBackground'>  with:  ['kern', 'cl', 'filename', 'steps_string', 'bgstack', 'imbg', 'timestamp', 'imraw', 'imc', 'imbw', 'stats']\n",
      "calling:  <class 'pyopia.instrument.holo.Load'>  with:  ['kern', 'cl', 'filename', 'steps_string', 'bgstack', 'imbg', 'timestamp', 'imraw', 'imc', 'imbw', 'stats']\n",
      "WARNING: timestamp not implemented for holo data! using current time to test workflow.\n",
      "calling:  <class 'pyopia.background.CorrectBackgroundAccurate'>  with:  ['kern', 'cl', 'filename', 'steps_string', 'bgstack', 'imbg', 'timestamp', 'imraw', 'imc', 'imbw', 'stats']\n",
      "calling:  <class 'pyopia.instrument.holo.Reconstruct'>  with:  ['kern', 'cl', 'filename', 'steps_string', 'bgstack', 'imbg', 'timestamp', 'imraw', 'imc', 'imbw', 'stats']\n",
      "correct background\n",
      "forward transform\n",
      "inverse transform\n",
      "clean stack\n",
      "summarise stack\n",
      "calling:  <class 'pyopia.process.Segment'>  with:  ['kern', 'cl', 'filename', 'steps_string', 'bgstack', 'imbg', 'timestamp', 'imraw', 'imc', 'imbw', 'stats']\n",
      "segment\n",
      "clean\n",
      "calling:  <class 'pyopia.process.CalculateStats'>  with:  ['kern', 'cl', 'filename', 'steps_string', 'bgstack', 'imbg', 'timestamp', 'imraw', 'imc', 'imbw', 'stats']\n",
      "statextract_light\n",
      "0.6% saturation\n",
      "measure\n",
      "  51 particles found\n",
      "WARNING. exportparticles temporarily modified for 2-d images without color!\n",
      "EXTRACTING 49 IMAGES from 51\n",
      "calling:  <class 'pyopia.io.StatsH5'>  with:  ['kern', 'cl', 'filename', 'steps_string', 'bgstack', 'imbg', 'timestamp', 'imraw', 'imc', 'imbw', 'stats']\n",
      "calling:  <class 'pyopia.background.CreateBackground'>  with:  ['kern', 'cl', 'filename', 'steps_string', 'bgstack', 'imbg', 'timestamp', 'imraw', 'imc', 'imbw', 'stats']\n",
      "calling:  <class 'pyopia.instrument.holo.Load'>  with:  ['kern', 'cl', 'filename', 'steps_string', 'bgstack', 'imbg', 'timestamp', 'imraw', 'imc', 'imbw', 'stats']\n",
      "WARNING: timestamp not implemented for holo data! using current time to test workflow.\n",
      "calling:  <class 'pyopia.background.CorrectBackgroundAccurate'>  with:  ['kern', 'cl', 'filename', 'steps_string', 'bgstack', 'imbg', 'timestamp', 'imraw', 'imc', 'imbw', 'stats']\n",
      "calling:  <class 'pyopia.instrument.holo.Reconstruct'>  with:  ['kern', 'cl', 'filename', 'steps_string', 'bgstack', 'imbg', 'timestamp', 'imraw', 'imc', 'imbw', 'stats']\n",
      "correct background\n",
      "forward transform\n",
      "inverse transform\n",
      "clean stack\n",
      "summarise stack\n",
      "calling:  <class 'pyopia.process.Segment'>  with:  ['kern', 'cl', 'filename', 'steps_string', 'bgstack', 'imbg', 'timestamp', 'imraw', 'imc', 'imbw', 'stats']\n",
      "segment\n",
      "clean\n",
      "calling:  <class 'pyopia.process.CalculateStats'>  with:  ['kern', 'cl', 'filename', 'steps_string', 'bgstack', 'imbg', 'timestamp', 'imraw', 'imc', 'imbw', 'stats']\n",
      "statextract_light\n",
      "0.4% saturation\n",
      "measure\n",
      "  31 particles found\n",
      "WARNING. exportparticles temporarily modified for 2-d images without color!\n",
      "EXTRACTING 31 IMAGES from 31\n",
      "calling:  <class 'pyopia.io.StatsH5'>  with:  ['kern', 'cl', 'filename', 'steps_string', 'bgstack', 'imbg', 'timestamp', 'imraw', 'imc', 'imbw', 'stats']\n",
      "calling:  <class 'pyopia.background.CreateBackground'>  with:  ['kern', 'cl', 'filename', 'steps_string', 'bgstack', 'imbg', 'timestamp', 'imraw', 'imc', 'imbw', 'stats']\n",
      "calling:  <class 'pyopia.instrument.holo.Load'>  with:  ['kern', 'cl', 'filename', 'steps_string', 'bgstack', 'imbg', 'timestamp', 'imraw', 'imc', 'imbw', 'stats']\n",
      "WARNING: timestamp not implemented for holo data! using current time to test workflow.\n",
      "calling:  <class 'pyopia.background.CorrectBackgroundAccurate'>  with:  ['kern', 'cl', 'filename', 'steps_string', 'bgstack', 'imbg', 'timestamp', 'imraw', 'imc', 'imbw', 'stats']\n",
      "calling:  <class 'pyopia.instrument.holo.Reconstruct'>  with:  ['kern', 'cl', 'filename', 'steps_string', 'bgstack', 'imbg', 'timestamp', 'imraw', 'imc', 'imbw', 'stats']\n",
      "correct background\n",
      "forward transform\n",
      "inverse transform\n",
      "clean stack\n",
      "summarise stack\n",
      "calling:  <class 'pyopia.process.Segment'>  with:  ['kern', 'cl', 'filename', 'steps_string', 'bgstack', 'imbg', 'timestamp', 'imraw', 'imc', 'imbw', 'stats']\n",
      "segment\n",
      "clean\n",
      "calling:  <class 'pyopia.process.CalculateStats'>  with:  ['kern', 'cl', 'filename', 'steps_string', 'bgstack', 'imbg', 'timestamp', 'imraw', 'imc', 'imbw', 'stats']\n",
      "statextract_light\n",
      "0.1% saturation\n",
      "measure\n",
      "  15 particles found\n",
      "WARNING. exportparticles temporarily modified for 2-d images without color!\n",
      "EXTRACTING 14 IMAGES from 15\n",
      "calling:  <class 'pyopia.io.StatsH5'>  with:  ['kern', 'cl', 'filename', 'steps_string', 'bgstack', 'imbg', 'timestamp', 'imraw', 'imc', 'imbw', 'stats']\n",
      "calling:  <class 'pyopia.background.CreateBackground'>  with:  ['kern', 'cl', 'filename', 'steps_string', 'bgstack', 'imbg', 'timestamp', 'imraw', 'imc', 'imbw', 'stats']\n",
      "calling:  <class 'pyopia.instrument.holo.Load'>  with:  ['kern', 'cl', 'filename', 'steps_string', 'bgstack', 'imbg', 'timestamp', 'imraw', 'imc', 'imbw', 'stats']\n",
      "WARNING: timestamp not implemented for holo data! using current time to test workflow.\n",
      "calling:  <class 'pyopia.background.CorrectBackgroundAccurate'>  with:  ['kern', 'cl', 'filename', 'steps_string', 'bgstack', 'imbg', 'timestamp', 'imraw', 'imc', 'imbw', 'stats']\n",
      "calling:  <class 'pyopia.instrument.holo.Reconstruct'>  with:  ['kern', 'cl', 'filename', 'steps_string', 'bgstack', 'imbg', 'timestamp', 'imraw', 'imc', 'imbw', 'stats']\n",
      "correct background\n",
      "forward transform\n",
      "inverse transform\n",
      "clean stack\n",
      "summarise stack\n",
      "calling:  <class 'pyopia.process.Segment'>  with:  ['kern', 'cl', 'filename', 'steps_string', 'bgstack', 'imbg', 'timestamp', 'imraw', 'imc', 'imbw', 'stats']\n",
      "segment\n",
      "clean\n",
      "calling:  <class 'pyopia.process.CalculateStats'>  with:  ['kern', 'cl', 'filename', 'steps_string', 'bgstack', 'imbg', 'timestamp', 'imraw', 'imc', 'imbw', 'stats']\n",
      "statextract_light\n",
      "1.2% saturation\n",
      "measure\n",
      "  48 particles found\n",
      "WARNING. exportparticles temporarily modified for 2-d images without color!\n",
      "EXTRACTING 48 IMAGES from 48\n",
      "calling:  <class 'pyopia.io.StatsH5'>  with:  ['kern', 'cl', 'filename', 'steps_string', 'bgstack', 'imbg', 'timestamp', 'imraw', 'imc', 'imbw', 'stats']\n",
      "calling:  <class 'pyopia.background.CreateBackground'>  with:  ['kern', 'cl', 'filename', 'steps_string', 'bgstack', 'imbg', 'timestamp', 'imraw', 'imc', 'imbw', 'stats']\n",
      "calling:  <class 'pyopia.instrument.holo.Load'>  with:  ['kern', 'cl', 'filename', 'steps_string', 'bgstack', 'imbg', 'timestamp', 'imraw', 'imc', 'imbw', 'stats']\n",
      "WARNING: timestamp not implemented for holo data! using current time to test workflow.\n",
      "calling:  <class 'pyopia.background.CorrectBackgroundAccurate'>  with:  ['kern', 'cl', 'filename', 'steps_string', 'bgstack', 'imbg', 'timestamp', 'imraw', 'imc', 'imbw', 'stats']\n",
      "calling:  <class 'pyopia.instrument.holo.Reconstruct'>  with:  ['kern', 'cl', 'filename', 'steps_string', 'bgstack', 'imbg', 'timestamp', 'imraw', 'imc', 'imbw', 'stats']\n",
      "correct background\n",
      "forward transform\n",
      "inverse transform\n",
      "clean stack\n",
      "summarise stack\n",
      "calling:  <class 'pyopia.process.Segment'>  with:  ['kern', 'cl', 'filename', 'steps_string', 'bgstack', 'imbg', 'timestamp', 'imraw', 'imc', 'imbw', 'stats']\n",
      "segment\n",
      "clean\n",
      "calling:  <class 'pyopia.process.CalculateStats'>  with:  ['kern', 'cl', 'filename', 'steps_string', 'bgstack', 'imbg', 'timestamp', 'imraw', 'imc', 'imbw', 'stats']\n",
      "statextract_light\n",
      "0.5% saturation\n",
      "measure\n",
      "  59 particles found\n",
      "WARNING. exportparticles temporarily modified for 2-d images without color!\n",
      "EXTRACTING 57 IMAGES from 59\n",
      "calling:  <class 'pyopia.io.StatsH5'>  with:  ['kern', 'cl', 'filename', 'steps_string', 'bgstack', 'imbg', 'timestamp', 'imraw', 'imc', 'imbw', 'stats']\n"
     ]
    }
   ],
   "source": [
    "#do a test run with just the first few input files\n",
    "for filename in files[:5]:\n",
    "    stats = processing_pipeline.run(filename)"
   ]
  },
  {
   "cell_type": "code",
   "execution_count": 7,
   "metadata": {},
   "outputs": [
    {
     "name": "stdout",
     "output_type": "stream",
     "text": [
      "Modified:\n",
      "    2023-01-11 18:57:46.131439\n",
      "Pipeline steps:\n",
      "    \n",
      "1) Step: initial\n",
      "   Type: <class 'pyopia.instrument.holo.Initial'>\n",
      "   Vars: {'filename': 'holo_test_data_01/001-2085.pgm', 'pixel_size': 4.4, 'wavelength': 658, 'minZ': 22, 'maxZ': 60, 'stepZ': 2}\n",
      "2) Step: classifier\n",
      "   Type: <class 'pyopia.classify.Classify'>\n",
      "   Vars: {'model_path': 'keras_model.h5', 'class_labels': Index(['oil', 'other', 'bubble', 'faecal_pellets', 'copepod', 'diatom_chain',\n",
      "       'oily_gas'],\n",
      "      dtype='object'), 'model': <keras.engine.sequential.Sequential object at 0x7fb38d6270a0>}\n",
      "3) Step: create background\n",
      "   Type: <class 'pyopia.background.CreateBackground'>\n",
      "   Vars: {'bgfiles': ['holo_test_data_01/001-2085.pgm', 'holo_test_data_01/001-2084.pgm', 'holo_test_data_01/001-2079.pgm', 'holo_test_data_01/001-2044.pgm', 'holo_test_data_01/001-2078.pgm', 'holo_test_data_01/001-2083.pgm', 'holo_test_data_01/001-2097.pgm', 'holo_test_data_01/001-2108.pgm', 'holo_test_data_01/001-2109.pgm', 'holo_test_data_01/001-2096.pgm'], 'load_function': <function load_image at 0x7fb3a5dd25e0>}\n",
      "4) Step: load\n",
      "   Type: <class 'pyopia.instrument.holo.Load'>\n",
      "   Vars: {}\n",
      "5) Step: correct background\n",
      "   Type: <class 'pyopia.background.CorrectBackgroundAccurate'>\n",
      "   Vars: {'bgshift_function': <function shift_bgstack_accurate at 0x7fb3a59d44c0>}\n",
      "6) Step: reconstruct\n",
      "   Type: <class 'pyopia.instrument.holo.Reconstruct'>\n",
      "   Vars: {'stack_clean': 0}\n",
      "7) Step: segmentation\n",
      "   Type: <class 'pyopia.process.Segment'>\n",
      "   Vars: {'minimum_area': 12, 'threshold': 0.9, 'fill_holes': True}\n",
      "8) Step: statextract\n",
      "   Type: <class 'pyopia.process.CalculateStats'>\n",
      "   Vars: {'max_coverage': 30, 'max_particles': 5000, 'export_outputpath': None, 'min_length': 0}\n",
      "9) Step: output\n",
      "   Type: <class 'pyopia.io.StatsH5'>\n",
      "   Vars: {'datafilename': 'proc/holotest'}\n",
      "\n",
      "PyOpia version:\n",
      "    0.0.29\n"
     ]
    }
   ],
   "source": [
    "\n",
    "# display metadata in the h5\n",
    "pyopia.io.show_h5_meta(datafile_hdf + '-STATS.h5')"
   ]
  },
  {
   "cell_type": "code",
   "execution_count": 8,
   "metadata": {},
   "outputs": [
    {
     "name": "stdout",
     "output_type": "stream",
     "text": [
      "stats header:  Index(['major_axis_length', 'minor_axis_length', 'equivalent_diameter',\n",
      "       'solidity', 'minr', 'minc', 'maxr', 'maxc', 'probability_oil',\n",
      "       'probability_other', 'probability_bubble', 'probability_faecal_pellets',\n",
      "       'probability_copepod', 'probability_diatom_chain',\n",
      "       'probability_oily_gas', 'export name', 'timestamp', 'saturation'],\n",
      "      dtype='object')\n",
      "Total number of particles:  3093\n"
     ]
    }
   ],
   "source": [
    "# load the stats DataFrame from the h5 file\n",
    "stats = pd.read_hdf(datafile_hdf + '-STATS.h5', 'ParticleStats/stats')\n",
    "print('stats header: ', stats.columns)\n",
    "print('Total number of particles: ', len(stats))"
   ]
  }
 ],
 "metadata": {
  "kernelspec": {
   "display_name": "Python 3",
   "language": "python",
   "name": "python3"
  },
  "language_info": {
   "codemirror_mode": {
    "name": "ipython",
    "version": 3
   },
   "file_extension": ".py",
   "mimetype": "text/x-python",
   "name": "python",
   "nbconvert_exporter": "python",
   "pygments_lexer": "ipython3",
   "version": "3.8.15"
  },
  "orig_nbformat": 4,
  "vscode": {
   "interpreter": {
    "hash": "35ab0c005d63a5587fede8db5b2b16b081d9aece903d58f7211748c218ea86a0"
   }
  }
 },
 "nbformat": 4,
 "nbformat_minor": 2
}
