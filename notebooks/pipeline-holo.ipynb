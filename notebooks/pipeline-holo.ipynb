{
 "cells": [
  {
   "cell_type": "markdown",
   "metadata": {},
   "source": [
    "# Imports"
   ]
  },
  {
   "cell_type": "code",
   "execution_count": null,
   "metadata": {},
   "outputs": [],
   "source": [
    "import warnings\n",
    "warnings.filterwarnings('ignore')"
   ]
  },
  {
   "cell_type": "code",
   "execution_count": 17,
   "metadata": {},
   "outputs": [
    {
     "name": "stdout",
     "output_type": "stream",
     "text": [
      "The autoreload extension is already loaded. To reload it, use:\n",
      "  %reload_ext autoreload\n"
     ]
    }
   ],
   "source": [
    "%load_ext autoreload\n",
    "%autoreload 2\n",
    "\n",
    "import pandas as pd\n",
    "from glob import glob\n",
    "import os\n",
    "\n",
    "from pyopia.classify import Classify\n",
    "import pyopia.process\n",
    "import pyopia.io\n",
    "import pyopia.background\n",
    "import exampledata\n",
    "from pyopia.pipeline import Pipeline\n",
    "import pyopia.instrument.holo as holo"
   ]
  },
  {
   "cell_type": "code",
   "execution_count": 38,
   "metadata": {},
   "outputs": [],
   "source": [
    "#download the default holo test data and create file list\n",
    "foldername = exampledata.get_folder_from_holo_repository()\n",
    "files = glob(os.path.join(foldername, '*.pgm'))"
   ]
  },
  {
   "cell_type": "code",
   "execution_count": 22,
   "metadata": {},
   "outputs": [
    {
     "name": "stdout",
     "output_type": "stream",
     "text": [
      "Initialising pipeline\n",
      "  Running <pyopia.instrument.holo.Initial object at 0x7fd344faabb0>\n",
      "Using first raw file to determine image dimensions\n",
      "Build kernel\n",
      "HoloInitial done 2023-01-11 16:00:21.833172\n",
      "  Running <pyopia.classify.Classify object at 0x7fd344faae80>\n",
      "Pipeline ready with these data:  ['kern', 'cl']\n"
     ]
    }
   ],
   "source": [
    "# example future pre-processing admin:\n",
    "# 1) config file config load\n",
    "# 2) build steps dict from loaded file\n",
    "# 3) establish non-processing related metadata\n",
    "\n",
    "os.makedirs('proc', exist_ok=True)\n",
    "\n",
    "datafile_hdf = 'proc/holotest'\n",
    "model_path = exampledata.get_example_model()\n",
    "threshold = 0.9\n",
    "\n",
    "bgfiles = files[:10] # provide a list of background files used to create the static background\n",
    "\n",
    "holo_initial_settings = {'pixel_size': 4.4, # pixel size in um\n",
    "                        'wavelength': 658, # laser wavelength in nm\n",
    "                        'minZ': 22, # minimum reconstruction distance in mm\n",
    "                        'maxZ': 60, # maximum reconstruction distance in mm\n",
    "                        'stepZ': 2} #step size in mm\n",
    "\n",
    "steps = {'initial': holo.Initial(files[0], **holo_initial_settings),\n",
    "         'classifier': Classify(model_path=model_path),\n",
    "         'create background': pyopia.background.CreateBackground(bgfiles,\n",
    "                                                                 pyopia.instrument.holo.load_image),\n",
    "         'load': holo.Load(),\n",
    "         'correct background': pyopia.background.CorrectBackgroundAccurate(),\n",
    "         'reconstruct': holo.Reconstruct(stack_clean=0),\n",
    "         'segmentation': pyopia.process.Segment(threshold=threshold),\n",
    "         'statextract': pyopia.process.CalculateStats(),\n",
    "         'output': pyopia.io.StatsH5(datafile_hdf)}\n",
    "\n",
    "processing_pipeline = Pipeline(steps)\n"
   ]
  },
  {
   "cell_type": "code",
   "execution_count": 24,
   "metadata": {},
   "outputs": [
    {
     "name": "stdout",
     "output_type": "stream",
     "text": [
      "calling:  <class 'pyopia.background.CreateBackground'>  with:  ['kern', 'cl', 'filename', 'steps_string', 'bgstack', 'imbg', 'timestamp', 'img']\n",
      "calling:  <class 'pyopia.instrument.holo.Load'>  with:  ['kern', 'cl', 'filename', 'steps_string', 'bgstack', 'imbg', 'timestamp', 'img']\n",
      "WARNING: timestamp not implemented for holo data! using current time to test workflow.\n",
      "calling:  <class 'pyopia.background.CorrectBackgroundAccurate'>  with:  ['kern', 'cl', 'filename', 'steps_string', 'bgstack', 'imbg', 'timestamp', 'img', 'imraw']\n"
     ]
    },
    {
     "ename": "IndexError",
     "evalue": "too many indices for array: array is 2-dimensional, but 3 were indexed",
     "output_type": "error",
     "traceback": [
      "\u001b[0;31m---------------------------------------------------------------------------\u001b[0m",
      "\u001b[0;31mIndexError\u001b[0m                                Traceback (most recent call last)",
      "Cell \u001b[0;32mIn[24], line 2\u001b[0m\n\u001b[1;32m      1\u001b[0m \u001b[39mfor\u001b[39;00m filename \u001b[39min\u001b[39;00m files:\n\u001b[0;32m----> 2\u001b[0m     stats \u001b[39m=\u001b[39m processing_pipeline\u001b[39m.\u001b[39;49mrun(filename)\n",
      "File \u001b[0;32m~/Desktop/Current/pyopia/pyopia/pipeline.py:142\u001b[0m, in \u001b[0;36mPipeline.run\u001b[0;34m(self, filename)\u001b[0m\n\u001b[1;32m    139\u001b[0m         \u001b[39mcontinue\u001b[39;00m\n\u001b[1;32m    141\u001b[0m     \u001b[39mprint\u001b[39m(\u001b[39m'\u001b[39m\u001b[39mcalling: \u001b[39m\u001b[39m'\u001b[39m, \u001b[39mstr\u001b[39m(\u001b[39mtype\u001b[39m(\u001b[39mself\u001b[39m\u001b[39m.\u001b[39msteps[s])), \u001b[39m'\u001b[39m\u001b[39m with: \u001b[39m\u001b[39m'\u001b[39m, \u001b[39mlist\u001b[39m(\u001b[39mself\u001b[39m\u001b[39m.\u001b[39mdata\u001b[39m.\u001b[39mkeys()))\n\u001b[0;32m--> 142\u001b[0m     \u001b[39mself\u001b[39m\u001b[39m.\u001b[39mdata \u001b[39m=\u001b[39m \u001b[39mself\u001b[39;49m\u001b[39m.\u001b[39;49msteps[s](\u001b[39mself\u001b[39;49m\u001b[39m.\u001b[39;49mdata)\n\u001b[1;32m    144\u001b[0m stats \u001b[39m=\u001b[39m \u001b[39mself\u001b[39m\u001b[39m.\u001b[39mdata[\u001b[39m'\u001b[39m\u001b[39mstats\u001b[39m\u001b[39m'\u001b[39m]\n\u001b[1;32m    146\u001b[0m \u001b[39mreturn\u001b[39;00m stats\n",
      "File \u001b[0;32m~/Desktop/Current/pyopia/pyopia/background.py:272\u001b[0m, in \u001b[0;36mCorrectBackgroundAccurate.__call__\u001b[0;34m(self, data)\u001b[0m\n\u001b[1;32m    269\u001b[0m imraw \u001b[39m=\u001b[39m data[\u001b[39m'\u001b[39m\u001b[39mimraw\u001b[39m\u001b[39m'\u001b[39m]\n\u001b[1;32m    270\u001b[0m imbg \u001b[39m=\u001b[39m data[\u001b[39m'\u001b[39m\u001b[39mimbg\u001b[39m\u001b[39m'\u001b[39m]\n\u001b[0;32m--> 272\u001b[0m imc \u001b[39m=\u001b[39m correct_im_accurate(imbg, imraw)\n\u001b[1;32m    274\u001b[0m data[\u001b[39m'\u001b[39m\u001b[39mimc\u001b[39m\u001b[39m'\u001b[39m] \u001b[39m=\u001b[39m imc\n\u001b[1;32m    275\u001b[0m \u001b[39mreturn\u001b[39;00m data\n",
      "File \u001b[0;32m~/Desktop/Current/pyopia/pyopia/background.py:96\u001b[0m, in \u001b[0;36mcorrect_im_accurate\u001b[0;34m(imbg, imraw)\u001b[0m\n\u001b[1;32m     81\u001b[0m \u001b[39m'''\u001b[39;00m\n\u001b[1;32m     82\u001b[0m \u001b[39mCorrects raw image by subtracting the background and scaling the output\u001b[39;00m\n\u001b[1;32m     83\u001b[0m \n\u001b[0;32m   (...)\u001b[0m\n\u001b[1;32m     92\u001b[0m \u001b[39m  imc (uint8)   : corrected image\u001b[39;00m\n\u001b[1;32m     93\u001b[0m \u001b[39m'''\u001b[39;00m\n\u001b[1;32m     95\u001b[0m imc \u001b[39m=\u001b[39m np\u001b[39m.\u001b[39mfloat64(imraw) \u001b[39m-\u001b[39m np\u001b[39m.\u001b[39mfloat64(imbg)\n\u001b[0;32m---> 96\u001b[0m imc[:, :, \u001b[39m0\u001b[39m] \u001b[39m+\u001b[39m\u001b[39m=\u001b[39m (\u001b[39m255\u001b[39m \u001b[39m/\u001b[39m \u001b[39m2\u001b[39m \u001b[39m-\u001b[39m np\u001b[39m.\u001b[39mpercentile(imc[:, :, \u001b[39m0\u001b[39m], \u001b[39m50\u001b[39m))\n\u001b[1;32m     97\u001b[0m imc[:, :, \u001b[39m1\u001b[39m] \u001b[39m+\u001b[39m\u001b[39m=\u001b[39m (\u001b[39m255\u001b[39m \u001b[39m/\u001b[39m \u001b[39m2\u001b[39m \u001b[39m-\u001b[39m np\u001b[39m.\u001b[39mpercentile(imc[:, :, \u001b[39m1\u001b[39m], \u001b[39m50\u001b[39m))\n\u001b[1;32m     98\u001b[0m imc[:, :, \u001b[39m2\u001b[39m] \u001b[39m+\u001b[39m\u001b[39m=\u001b[39m (\u001b[39m255\u001b[39m \u001b[39m/\u001b[39m \u001b[39m2\u001b[39m \u001b[39m-\u001b[39m np\u001b[39m.\u001b[39mpercentile(imc[:, :, \u001b[39m2\u001b[39m], \u001b[39m50\u001b[39m))\n",
      "\u001b[0;31mIndexError\u001b[0m: too many indices for array: array is 2-dimensional, but 3 were indexed"
     ]
    }
   ],
   "source": [
    "\n",
    "for filename in files:\n",
    "    stats = processing_pipeline.run(filename)"
   ]
  },
  {
   "cell_type": "code",
   "execution_count": null,
   "metadata": {},
   "outputs": [],
   "source": [
    "\n",
    "# display metadata in the h5\n",
    "pyopia.io.show_h5_meta(datafile_hdf + '-STATS.h5')"
   ]
  },
  {
   "cell_type": "code",
   "execution_count": null,
   "metadata": {},
   "outputs": [],
   "source": [
    "# load the stats DataFrame from the h5 file\n",
    "stats = pd.read_hdf(datafile_hdf + '-STATS.h5', 'ParticleStats/stats')\n",
    "print('stats header: ', stats.columns)\n",
    "print('Total number of particles: ', len(stats))"
   ]
  }
 ],
 "metadata": {
  "kernelspec": {
   "display_name": "Python 3",
   "language": "python",
   "name": "python3"
  },
  "language_info": {
   "codemirror_mode": {
    "name": "ipython",
    "version": 3
   },
   "file_extension": ".py",
   "mimetype": "text/x-python",
   "name": "python",
   "nbconvert_exporter": "python",
   "pygments_lexer": "ipython3",
   "version": "3.8.15"
  },
  "orig_nbformat": 4,
  "vscode": {
   "interpreter": {
    "hash": "35ab0c005d63a5587fede8db5b2b16b081d9aece903d58f7211748c218ea86a0"
   }
  }
 },
 "nbformat": 4,
 "nbformat_minor": 2
}
