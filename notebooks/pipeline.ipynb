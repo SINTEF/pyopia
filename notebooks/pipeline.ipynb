{
 "cells": [
  {
   "cell_type": "markdown",
   "metadata": {},
   "source": [
    "# Imports"
   ]
  },
  {
   "cell_type": "code",
   "execution_count": 1,
   "metadata": {},
   "outputs": [],
   "source": [
    "import warnings\n",
    "warnings.filterwarnings('ignore')"
   ]
  },
  {
   "cell_type": "code",
   "execution_count": 2,
   "metadata": {},
   "outputs": [],
   "source": [
    "import pandas as pd\n",
    "from glob import glob\n",
    "import os\n",
    "\n",
    "from pyopia.classify import Classify\n",
    "import exampledata\n",
    "import pyopia.io\n",
    "from pyopia.pipeline import Pipeline\n",
    "import pyopia.instrument.silcam\n",
    "import pyopia.process\n",
    "import pyopia.background"
   ]
  },
  {
   "cell_type": "code",
   "execution_count": 3,
   "metadata": {},
   "outputs": [],
   "source": [
    "filename = exampledata.get_example_silc_image()\n",
    "\n",
    "files = glob('raw_data/*.silc') # relies on having a list of raw files - not currently auto-obtained\n",
    "files = files[:20]"
   ]
  },
  {
   "cell_type": "code",
   "execution_count": 4,
   "metadata": {},
   "outputs": [
    {
     "name": "stdout",
     "output_type": "stream",
     "text": [
      "Initialising pipeline\n",
      "  Running <pyopia.classify.Classify object at 0x00000215279EBD90>\n",
      "  Running <pyopia.background.CreateBackground object at 0x000002152E9096A0>\n",
      "Pipeline ready with these data:  ['cl', 'bgstack', 'imbg']\n"
     ]
    }
   ],
   "source": [
    "# example future pre-processing admin:\n",
    "# 1) config file config load\n",
    "# 2) build steps dict from loaded file\n",
    "# 3) establish non-processing related metadata\n",
    "\n",
    "os.makedirs('proc', exist_ok=True)\n",
    "\n",
    "datafile_hdf = 'proc/test'\n",
    "model_path = exampledata.get_example_model()\n",
    "threshold = 0.85\n",
    "\n",
    "bgfiles = files[:10] # provide a list of background files used to create the static background\n",
    "\n",
    "steps = {'classifier': Classify(model_path=model_path),\n",
    "         'create background': pyopia.background.CreateBackground(bgfiles,\n",
    "                                                                 pyopia.instrument.silcam.load_image),\n",
    "         'load': pyopia.instrument.silcam.SilCamLoad(),\n",
    "         'correct background': pyopia.background.CorrectBackgroundAccurate(),\n",
    "         'imageprep': pyopia.instrument.silcam.ImagePrep(image_level='imc'),\n",
    "         'segmentation': pyopia.process.Segment(threshold=threshold),\n",
    "         'statextract': pyopia.process.CalculateStats(),\n",
    "         'output': pyopia.io.StatsH5(datafile_hdf)}\n",
    "\n",
    "processing_pipeline = Pipeline(steps,\n",
    "                               initial_steps=['classifier', 'create background'])"
   ]
  },
  {
   "cell_type": "code",
   "execution_count": 5,
   "metadata": {},
   "outputs": [
    {
     "name": "stdout",
     "output_type": "stream",
     "text": [
      "calling:  <class 'pyopia.instrument.silcam.SilCamLoad'>  with:  ['cl', 'bgstack', 'imbg', 'filename', 'steps_string']\n",
      "calling:  <class 'pyopia.background.CorrectBackgroundAccurate'>  with:  ['cl', 'bgstack', 'imbg', 'filename', 'steps_string', 'timestamp', 'imraw']\n",
      "calling:  <class 'pyopia.instrument.silcam.ImagePrep'>  with:  ['cl', 'bgstack', 'imbg', 'filename', 'steps_string', 'timestamp', 'imraw', 'imc']\n",
      "calling:  <class 'pyopia.process.Segment'>  with:  ['cl', 'bgstack', 'imbg', 'filename', 'steps_string', 'timestamp', 'imraw', 'imc', 'imref']\n",
      "segment\n",
      "clean\n",
      "calling:  <class 'pyopia.process.CalculateStats'>  with:  ['cl', 'bgstack', 'imbg', 'filename', 'steps_string', 'timestamp', 'imraw', 'imc', 'imref', 'imbw']\n",
      "statextract_light\n",
      "0.1% saturation\n",
      "measure\n",
      "  35 particles found\n",
      "WARNING. exportparticles temporarily modified for 2-d images without color!\n",
      "EXTRACTING 35 IMAGES from 35\n",
      "calling:  <class 'pyopia.io.StatsH5'>  with:  ['cl', 'bgstack', 'imbg', 'filename', 'steps_string', 'timestamp', 'imraw', 'imc', 'imref', 'imbw', 'stats']\n",
      "calling:  <class 'pyopia.instrument.silcam.SilCamLoad'>  with:  ['cl', 'bgstack', 'imbg', 'filename', 'steps_string', 'timestamp', 'imraw', 'imc', 'imref', 'imbw', 'stats']\n",
      "calling:  <class 'pyopia.background.CorrectBackgroundAccurate'>  with:  ['cl', 'bgstack', 'imbg', 'filename', 'steps_string', 'timestamp', 'imraw', 'imc', 'imref', 'imbw', 'stats']\n",
      "calling:  <class 'pyopia.instrument.silcam.ImagePrep'>  with:  ['cl', 'bgstack', 'imbg', 'filename', 'steps_string', 'timestamp', 'imraw', 'imc', 'imref', 'imbw', 'stats']\n",
      "calling:  <class 'pyopia.process.Segment'>  with:  ['cl', 'bgstack', 'imbg', 'filename', 'steps_string', 'timestamp', 'imraw', 'imc', 'imref', 'imbw', 'stats']\n",
      "segment\n",
      "clean\n",
      "calling:  <class 'pyopia.process.CalculateStats'>  with:  ['cl', 'bgstack', 'imbg', 'filename', 'steps_string', 'timestamp', 'imraw', 'imc', 'imref', 'imbw', 'stats']\n",
      "statextract_light\n",
      "0.2% saturation\n",
      "measure\n",
      "  32 particles found\n",
      "WARNING. exportparticles temporarily modified for 2-d images without color!\n",
      "EXTRACTING 32 IMAGES from 32\n",
      "calling:  <class 'pyopia.io.StatsH5'>  with:  ['cl', 'bgstack', 'imbg', 'filename', 'steps_string', 'timestamp', 'imraw', 'imc', 'imref', 'imbw', 'stats']\n"
     ]
    }
   ],
   "source": [
    "# If you want to load a pre-defined set of steps for silcam analysis, you can do it like this:\n",
    "from pyopia.instrument.silcam import silcam_steps\n",
    "default_steps, default_initial_steps = silcam_steps(model_path, threshold, datafile_hdf)\n",
    "# then you would initialise the pipeline like this:\n",
    "# processing_pipeline = Pipeline(default_steps, initial_steps=default_initial_steps)"
   ]
  },
  {
   "cell_type": "code",
   "execution_count": null,
   "metadata": {},
   "outputs": [],
   "source": [
    "processing_pipeline = Pipeline(steps, initial_steps=['classifier', 'create background'])\n",
    "for filename in files[:2]:\n",
    "    stats = processing_pipeline.run(filename)"
   ]
  },
  {
   "cell_type": "code",
   "execution_count": 6,
   "metadata": {},
   "outputs": [
    {
     "name": "stdout",
     "output_type": "stream",
     "text": [
      "Modified:\n",
      "    2023-01-10 13:30:20.915565\n",
      "Pipeline steps:\n",
      "    \n",
      "1) Step: classifier\n",
      "   Type: <class 'pyopia.classify.Classify'>\n",
      "   Vars: {'model_path': 'keras_model.h5', 'class_labels': Index(['oil', 'other', 'bubble', 'faecal_pellets', 'copepod', 'diatom_chain',\n",
      "       'oily_gas'],\n",
      "      dtype='object'), 'model': <keras.engine.sequential.Sequential object at 0x000002152E8D45B0>}\n",
      "2) Step: create background\n",
      "   Type: <class 'pyopia.background.CreateBackground'>\n",
      "   Vars: {'bgfiles': ['raw_data\\\\D20201016T123936.323136.silc', 'raw_data\\\\D20201016T123936.510592.silc', 'raw_data\\\\D20201016T123936.682427.silc', 'raw_data\\\\D20201016T123936.869883.silc', 'raw_data\\\\D20201016T123937.057339.silc', 'raw_data\\\\D20201016T123937.244821.silc', 'raw_data\\\\D20201016T123937.432250.silc', 'raw_data\\\\D20201016T123937.604085.silc', 'raw_data\\\\D20201016T123937.791541.silc', 'raw_data\\\\D20201016T123937.972273.silc'], 'load_function': <function load_image at 0x0000021524D23310>}\n",
      "3) Step: load\n",
      "   Type: <class 'pyopia.instrument.silcam.SilCamLoad'>\n",
      "   Vars: {}\n",
      "4) Step: correct background\n",
      "   Type: <class 'pyopia.background.CorrectBackgroundAccurate'>\n",
      "   Vars: {}\n",
      "5) Step: imageprep\n",
      "   Type: <class 'pyopia.instrument.silcam.ImagePrep'>\n",
      "   Vars: {'image_level': 'imc'}\n",
      "6) Step: segmentation\n",
      "   Type: <class 'pyopia.process.Segment'>\n",
      "   Vars: {'minimum_area': 12, 'threshold': 0.85, 'fill_holes': True}\n",
      "7) Step: statextract\n",
      "   Type: <class 'pyopia.process.CalculateStats'>\n",
      "   Vars: {'max_coverage': 30, 'max_particles': 5000, 'export_outputpath': None, 'min_length': 0}\n",
      "8) Step: output\n",
      "   Type: <class 'pyopia.io.StatsH5'>\n",
      "   Vars: {'datafilename': 'proc/test'}\n",
      "\n",
      "PyOpia version:\n",
      "    0.0.24\n"
     ]
    }
   ],
   "source": [
    "# display metadata in the h5\n",
    "pyopia.io.show_h5_meta(datafile_hdf + '-STATS.h5')"
   ]
  },
  {
   "cell_type": "code",
   "execution_count": 7,
   "metadata": {},
   "outputs": [
    {
     "name": "stdout",
     "output_type": "stream",
     "text": [
      "stats header:  Index(['major_axis_length', 'minor_axis_length', 'equivalent_diameter',\n",
      "       'solidity', 'minr', 'minc', 'maxr', 'maxc', 'probability_oil',\n",
      "       'probability_other', 'probability_bubble', 'probability_faecal_pellets',\n",
      "       'probability_copepod', 'probability_diatom_chain',\n",
      "       'probability_oily_gas', 'export name', 'timestamp', 'saturation'],\n",
      "      dtype='object')\n",
      "Total number of particles:  4958\n",
      "Number of raw images:  3\n"
     ]
    }
   ],
   "source": [
    "import pyopia.statistics\n",
    "# load the stats DataFrame from the h5 file\n",
    "stats = pd.read_hdf(datafile_hdf + '-STATS.h5', 'ParticleStats/stats')\n",
    "print('stats header: ', stats.columns)\n",
    "print('Total number of particles: ', len(stats))\n",
    "print('Number of raw images: ', pyopia.statistics.count_images_in_stats(stats))"
   ]
  }
 ],
 "metadata": {
  "kernelspec": {
   "display_name": "Python 3",
   "language": "python",
   "name": "python3"
  },
  "language_info": {
   "codemirror_mode": {
    "name": "ipython",
    "version": 3
   },
   "file_extension": ".py",
   "mimetype": "text/x-python",
   "name": "python",
   "nbconvert_exporter": "python",
   "pygments_lexer": "ipython3",
   "version": "3.8.15 | packaged by conda-forge | (default, Nov 22 2022, 08:42:03) [MSC v.1929 64 bit (AMD64)]"
  },
  "orig_nbformat": 4,
  "vscode": {
   "interpreter": {
    "hash": "35ab0c005d63a5587fede8db5b2b16b081d9aece903d58f7211748c218ea86a0"
   }
  }
 },
 "nbformat": 4,
 "nbformat_minor": 2
}
