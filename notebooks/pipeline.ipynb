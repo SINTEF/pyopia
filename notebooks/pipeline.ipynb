{
 "cells": [
  {
   "cell_type": "markdown",
   "metadata": {},
   "source": [
    "# Imports"
   ]
  },
  {
   "cell_type": "code",
   "execution_count": 1,
   "metadata": {},
   "outputs": [],
   "source": [
    "import warnings\n",
    "warnings.filterwarnings('ignore')"
   ]
  },
  {
   "cell_type": "code",
   "execution_count": 2,
   "metadata": {},
   "outputs": [],
   "source": [
    "import numpy as np\n",
    "import pandas as pd\n",
    "import os\n",
    "\n",
    "import pyopia.classify\n",
    "import pyopia.process\n",
    "import exampledata"
   ]
  },
  {
   "cell_type": "code",
   "execution_count": 3,
   "metadata": {},
   "outputs": [],
   "source": [
    "filename = exampledata.get_example_silc_image()\n"
   ]
  },
  {
   "cell_type": "code",
   "execution_count": 5,
   "metadata": {},
   "outputs": [
    {
     "name": "stdout",
     "output_type": "stream",
     "text": [
      "segment\n",
      "clean\n",
      "0.8% saturation\n",
      "measure\n",
      "  126 particles found\n",
      "EXTRACTING 125 IMAGES from 126\n",
      "\n",
      "-- Pipeline configuration --\n",
      "\n",
      "PyOpia version: 0.0.10\n",
      "\n",
      "Step name: load:\n",
      "<class 'pyopia.instrument.silcam.SilCamLoad'>\n",
      "{'filename': 'D20181101T142731.838206.silc'}\n",
      "\n",
      "Step name: classifier:\n",
      "<class 'pyopia.classify.Classify'>\n",
      "{'model_path': 'keras_model.h5', 'class_labels': Index(['oil', 'other', 'bubble', 'faecal_pellets', 'copepod', 'diatom_chain',\n",
      "       'oily_gas'],\n",
      "      dtype='object'), 'model': <keras.engine.sequential.Sequential object at 0x0000026BE9DA2BB0>}\n",
      "\n",
      "Step name: statextract:\n",
      "<class 'pyopia.instrument.silcam.SilCamStatExtract'>\n",
      "{'minimum_area': 12, 'threshold': 0.5, 'real_time_stats': False, 'max_coverage': 30, 'max_particles': 5000}\n",
      "\n",
      "---------------------------------\n",
      "\n"
     ]
    }
   ],
   "source": [
    "import pyopia.process\n",
    "from pyopia.pipeline import Pipeline\n",
    "from pyopia.instrument.silcam import SilCamLoad, SilCamStatExtract\n",
    "\n",
    "steps = {'load': SilCamLoad(filename),\n",
    "         'classifier': pyopia.classify.Classify(\n",
    "             model_path=exampledata.get_example_model()),\n",
    "         #'statextract': pyopia.process.statextract}\n",
    "         'statextract': SilCamStatExtract(threshold=0.5)}\n",
    "\n",
    "# minimum_area=12, threshold=0.98, real_time_stats=False, max_coverage=30, max_particles=5000\n",
    "\n",
    "proc = Pipeline(steps)\n",
    "\n",
    "stats = proc.run()\n",
    "\n",
    "proc.print_steps()\n",
    "\n",
    "\n"
   ]
  }
 ],
 "metadata": {
  "kernelspec": {
   "display_name": "Python 3.8.13 64-bit ('pyopia')",
   "language": "python",
   "name": "python3"
  },
  "language_info": {
   "codemirror_mode": {
    "name": "ipython",
    "version": 3
   },
   "file_extension": ".py",
   "mimetype": "text/x-python",
   "name": "python",
   "nbconvert_exporter": "python",
   "pygments_lexer": "ipython3",
   "version": "3.8.13"
  },
  "orig_nbformat": 4,
  "vscode": {
   "interpreter": {
    "hash": "35ab0c005d63a5587fede8db5b2b16b081d9aece903d58f7211748c218ea86a0"
   }
  }
 },
 "nbformat": 4,
 "nbformat_minor": 2
}
