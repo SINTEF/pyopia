{
 "cells": [
  {
   "cell_type": "markdown",
   "metadata": {},
   "source": [
    "# Imports"
   ]
  },
  {
   "cell_type": "code",
   "execution_count": 5,
   "metadata": {},
   "outputs": [],
   "source": [
    "import warnings\n",
    "warnings.filterwarnings('ignore')"
   ]
  },
  {
   "cell_type": "code",
   "execution_count": 21,
   "metadata": {},
   "outputs": [],
   "source": [
    "import numpy as np\n",
    "import pandas as pd\n",
    "import os\n",
    "\n",
    "import pyopia.classify\n",
    "import pyopia.process\n",
    "import exampledata"
   ]
  },
  {
   "cell_type": "code",
   "execution_count": 12,
   "metadata": {},
   "outputs": [
    {
     "name": "stdout",
     "output_type": "stream",
     "text": [
      "WARNING: Could not import Keras, Classify will not work until you install tensorflow (pip install tensorflow-cpu==2.3.1\n"
     ]
    }
   ],
   "source": [
    "# initialise the Classify class\n",
    "cl = pyopia.classify.Classify()\n",
    "\n",
    "model_filename = exampledata.get_example_model()\n",
    "\n",
    "cl.load_model(model_path=model_filename)"
   ]
  },
  {
   "cell_type": "code",
   "execution_count": 13,
   "metadata": {},
   "outputs": [],
   "source": [
    "filename = exampledata.get_example_silc_image()\n",
    "img = np.load(filename, allow_pickle=False)"
   ]
  },
  {
   "cell_type": "code",
   "execution_count": 22,
   "metadata": {},
   "outputs": [
    {
     "name": "stdout",
     "output_type": "stream",
     "text": [
      "Processing time stamp 2018-11-01 14:27:31.838206\n",
      "segment\n",
      "clean\n",
      "2.2% saturation\n",
      "measure\n",
      "  121 particles found\n",
      "'NoneType' object is not subscriptable\n",
      "Failed to process frame 1, skipping.\n"
     ]
    },
    {
     "name": "stderr",
     "output_type": "stream",
     "text": [
      "Traceback (most recent call last):\n",
      "  File \"c:\\users\\emlynd\\documents\\github\\pyopia\\pyopia\\process.py\", line 410, in process_image\n",
      "    stats, imbw, saturation = statextract_function(data, Classification)\n",
      "  File \"c:\\users\\emlynd\\documents\\github\\pyopia\\pyopia\\process.py\", line 378, in statextract\n",
      "    stats = extractparticles_function(imc, timestamp, Classification, region_properties)\n",
      "  File \"c:\\users\\emlynd\\documents\\github\\pyopia\\pyopia\\process.py\", line 270, in extract_particles\n",
      "    predictions[int(i), :] = prediction[0]\n",
      "TypeError: 'NoneType' object is not subscriptable\n"
     ]
    }
   ],
   "source": [
    "# get the timestamp of the image (in this case from the filename)\n",
    "timestamp = pd.to_datetime(os.path.splitext(os.path.basename(filename))[0][1:])\n",
    "\n",
    "# setup the 'data' tuple with an image number, timestamp and the image\n",
    "data = (1, timestamp, img)\n",
    "\n",
    "# call process_image\n",
    "stats = pyopia.process.process_image(cl, data)"
   ]
  }
 ],
 "metadata": {
  "kernelspec": {
   "display_name": "Python 3.8.13 64-bit ('pyopia')",
   "language": "python",
   "name": "python3"
  },
  "language_info": {
   "codemirror_mode": {
    "name": "ipython",
    "version": 3
   },
   "file_extension": ".py",
   "mimetype": "text/x-python",
   "name": "python",
   "nbconvert_exporter": "python",
   "pygments_lexer": "ipython3",
   "version": "3.8.13"
  },
  "orig_nbformat": 4,
  "vscode": {
   "interpreter": {
    "hash": "35ab0c005d63a5587fede8db5b2b16b081d9aece903d58f7211748c218ea86a0"
   }
  }
 },
 "nbformat": 4,
 "nbformat_minor": 2
}
