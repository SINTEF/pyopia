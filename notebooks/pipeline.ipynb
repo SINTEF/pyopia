{
 "cells": [
  {
   "cell_type": "markdown",
   "metadata": {},
   "source": [
    "# Imports"
   ]
  },
  {
   "cell_type": "code",
   "execution_count": null,
   "metadata": {},
   "outputs": [],
   "source": [
    "import warnings\n",
    "warnings.filterwarnings('ignore')"
   ]
  },
  {
   "cell_type": "code",
   "execution_count": null,
   "metadata": {},
   "outputs": [],
   "source": [
    "import pandas as pd\n",
    "from glob import glob\n",
    "import os\n",
    "\n",
    "from pyopia.classify import Classify\n",
    "import exampledata\n",
    "import pyopia.io\n",
    "from pyopia.pipeline import Pipeline\n",
    "import pyopia.instrument.silcam\n",
    "import pyopia.process\n",
    "import pyopia.background"
   ]
  },
  {
   "cell_type": "code",
   "execution_count": null,
   "metadata": {},
   "outputs": [],
   "source": [
    "filename = exampledata.get_example_silc_image()\n",
    "\n",
    "files = glob('raw_data/*.silc') # relies on having a list of raw files - not currently auto-obtained\n",
    "files = files[:20]"
   ]
  },
  {
   "cell_type": "code",
   "execution_count": null,
   "metadata": {},
   "outputs": [],
   "source": [
    "# example future pre-processing admin:\n",
    "# 1) config file config load\n",
    "# 2) build steps dict from loaded file\n",
    "# 3) establish non-processing related metadata\n",
    "\n",
    "os.makedirs('proc', exist_ok=True)\n",
    "\n",
    "datafile_hdf = 'proc/test'\n",
    "model_path = exampledata.get_example_model()\n",
    "threshold = 0.85\n",
    "\n",
    "average_window = 10  # number of images to use as background\n",
    "bgfiles = files[:average_window]  # provide a list of background files used to create the static background\n",
    "\n",
    "steps = {'classifier': Classify(model_path=model_path),\n",
    "         'create background': pyopia.background.CreateBackground(bgfiles,\n",
    "                                                                 pyopia.instrument.silcam.load_image),\n",
    "         'load': pyopia.instrument.silcam.SilCamLoad(),\n",
    "         'correct background': pyopia.background.CorrectBackgroundAccurate(pyopia.background.shift_bgstack_accurate),\n",
    "         'imageprep': pyopia.instrument.silcam.ImagePrep(image_level='imc'),\n",
    "         'segmentation': pyopia.process.Segment(threshold=threshold),\n",
    "         'statextract': pyopia.process.CalculateStats(),\n",
    "         'output': pyopia.io.StatsH5(datafile_hdf)}\n",
    "\n",
    "processing_pipeline = Pipeline(steps,\n",
    "                               initial_steps=['classifier', 'create background'])"
   ]
  },
  {
   "cell_type": "code",
   "execution_count": null,
   "metadata": {},
   "outputs": [],
   "source": [
    "# If you want to load a pre-defined set of steps for silcam analysis, you can do it like this:\n",
    "from pyopia.instrument.silcam import silcam_steps\n",
    "default_steps, default_initial_steps = silcam_steps(model_path, threshold, datafile_hdf)\n",
    "# then you would initialise the pipeline like this:\n",
    "# processing_pipeline = Pipeline(default_steps, initial_steps=default_initial_steps)"
   ]
  },
  {
   "cell_type": "code",
   "execution_count": null,
   "metadata": {},
   "outputs": [],
   "source": [
    "processing_pipeline = Pipeline(steps, initial_steps=['classifier', 'create background'])\n",
    "for filename in files[:2]:\n",
    "    stats = processing_pipeline.run(filename)"
   ]
  },
  {
   "cell_type": "code",
   "execution_count": null,
   "metadata": {},
   "outputs": [],
   "source": [
    "# display metadata in the h5\n",
    "pyopia.io.show_h5_meta(datafile_hdf + '-STATS.h5')"
   ]
  },
  {
   "cell_type": "code",
   "execution_count": null,
   "metadata": {},
   "outputs": [],
   "source": [
    "import pyopia.statistics\n",
    "# load the stats DataFrame from the h5 file\n",
    "stats = pd.read_hdf(datafile_hdf + '-STATS.h5', 'ParticleStats/stats')\n",
    "print('stats header: ', stats.columns)\n",
    "print('Total number of particles: ', len(stats))\n",
    "print('Number of raw images: ', pyopia.statistics.count_images_in_stats(stats))"
   ]
  }
 ],
 "metadata": {
  "kernelspec": {
   "display_name": "Python 3",
   "language": "python",
   "name": "python3"
  },
  "language_info": {
   "codemirror_mode": {
    "name": "ipython",
    "version": 3
   },
   "file_extension": ".py",
   "mimetype": "text/x-python",
   "name": "python",
   "nbconvert_exporter": "python",
   "pygments_lexer": "ipython3",
   "version": "3.8.15 | packaged by conda-forge | (default, Nov 22 2022, 08:42:03) [MSC v.1929 64 bit (AMD64)]"
  },
  "orig_nbformat": 4,
  "vscode": {
   "interpreter": {
    "hash": "35ab0c005d63a5587fede8db5b2b16b081d9aece903d58f7211748c218ea86a0"
   }
  }
 },
 "nbformat": 4,
 "nbformat_minor": 2
}
