{
 "cells": [
  {
   "cell_type": "markdown",
   "metadata": {},
   "source": [
    "# Imports"
   ]
  },
  {
   "cell_type": "code",
   "execution_count": 1,
   "metadata": {},
   "outputs": [],
   "source": [
    "import warnings\n",
    "warnings.filterwarnings('ignore')"
   ]
  },
  {
   "cell_type": "code",
   "execution_count": 2,
   "metadata": {},
   "outputs": [],
   "source": [
    "import numpy as np\n",
    "import pandas as pd\n",
    "import os\n",
    "\n",
    "import pyopia.classify\n",
    "import pyopia.process\n",
    "import exampledata"
   ]
  },
  {
   "cell_type": "code",
   "execution_count": 3,
   "metadata": {},
   "outputs": [],
   "source": [
    "filename = exampledata.get_example_silc_image()\n"
   ]
  },
  {
   "cell_type": "code",
   "execution_count": 4,
   "metadata": {},
   "outputs": [
    {
     "name": "stdout",
     "output_type": "stream",
     "text": [
      "segment\n",
      "clean\n",
      "0.8% saturation\n",
      "measure\n",
      "  126 particles found\n",
      "EXTRACTING 125 IMAGES from 126\n",
      "output done.\n"
     ]
    }
   ],
   "source": [
    "import pyopia.process\n",
    "import pyopia.io\n",
    "import pyopia.pipeline\n",
    "from pyopia.pipeline import Pipeline\n",
    "from pyopia.instrument.silcam import SilCamLoad, SilCamStatExtract\n",
    "\n",
    "#cofig config_load\n",
    "\n",
    "#build steps dict\n",
    "\n",
    "steps = {'load': SilCamLoad(filename),\n",
    "         'classifier': pyopia.classify.Classify(\n",
    "             model_path=exampledata.get_example_model()),\n",
    "         #'statextract': pyopia.process.statextract}\n",
    "         'statextract': SilCamStatExtract(threshold=0.5),\n",
    "         'output': pyopia.io.StatsH5()}\n",
    "\n",
    "# minimum_area=12, threshold=0.98, real_time_stats=False, max_coverage=30, max_particles=5000\n",
    "\n",
    "proc = Pipeline(steps)\n",
    "\n",
    "stats = proc.run()\n"
   ]
  },
  {
   "cell_type": "code",
   "execution_count": 7,
   "metadata": {},
   "outputs": [
    {
     "name": "stdout",
     "output_type": "stream",
     "text": [
      "Modified:\n",
      "    2022-11-04 09:12:31.863750\n",
      "Pipeline steps:\n",
      "    Step name: load:\n",
      "<class 'pyopia.instrument.silcam.SilCamLoad'>\n",
      "{'filename': 'D20181101T142731.838206.silc'}Step name: classifier:\n",
      "<class 'pyopia.classify.Classify'>\n",
      "{'model_path': 'keras_model.h5', 'class_labels': Index(['oil', 'other', 'bubble', 'faecal_pellets', 'copepod', 'diatom_chain',\n",
      "       'oily_gas'],\n",
      "      dtype='object'), 'model': <keras.engine.sequential.Sequential object at 0x0000025C42C2AEB0>}Step name: statextract:\n",
      "<class 'pyopia.instrument.silcam.SilCamStatExtract'>\n",
      "{'minimum_area': 12, 'threshold': 0.5, 'real_time_stats': False, 'max_coverage': 30, 'max_particles': 5000}Step name: output:\n",
      "<class 'pyopia.io.StatsH5'>\n",
      "{}\n",
      "PyOpia version:\n",
      "    0.0.10\n"
     ]
    }
   ],
   "source": [
    "\n",
    "# display metadata in the h5\n",
    "\n",
    "datafile_hdf = 'proc/test'\n",
    "\n",
    "pyopia.io.show_h5_meta(datafile_hdf + '-STATS.h5')"
   ]
  }
 ],
 "metadata": {
  "kernelspec": {
   "display_name": "Python 3.8.13 64-bit ('pyopia')",
   "language": "python",
   "name": "python3"
  },
  "language_info": {
   "codemirror_mode": {
    "name": "ipython",
    "version": 3
   },
   "file_extension": ".py",
   "mimetype": "text/x-python",
   "name": "python",
   "nbconvert_exporter": "python",
   "pygments_lexer": "ipython3",
   "version": "3.8.13"
  },
  "orig_nbformat": 4,
  "vscode": {
   "interpreter": {
    "hash": "35ab0c005d63a5587fede8db5b2b16b081d9aece903d58f7211748c218ea86a0"
   }
  }
 },
 "nbformat": 4,
 "nbformat_minor": 2
}
