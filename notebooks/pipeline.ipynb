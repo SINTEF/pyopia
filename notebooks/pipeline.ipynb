{
 "cells": [
  {
   "cell_type": "markdown",
   "metadata": {},
   "source": [
    "# Imports"
   ]
  },
  {
   "cell_type": "code",
   "execution_count": 1,
   "metadata": {},
   "outputs": [],
   "source": [
    "import warnings\n",
    "warnings.filterwarnings('ignore')"
   ]
  },
  {
   "cell_type": "code",
   "execution_count": 2,
   "metadata": {},
   "outputs": [],
   "source": [
    "import pandas as pd\n",
    "from glob import glob\n",
    "\n",
    "from pyopia.classify import Classify\n",
    "import exampledata\n",
    "import pyopia.io\n",
    "from pyopia.pipeline import Pipeline\n",
    "from pyopia.instrument.silcam import SilCamLoad, ImagePrep\n",
    "import pyopia.process"
   ]
  },
  {
   "cell_type": "code",
   "execution_count": 3,
   "metadata": {},
   "outputs": [],
   "source": [
    "filename = exampledata.get_example_silc_image()\n",
    "\n",
    "files = glob('raw_data/*.silc')"
   ]
  },
  {
   "cell_type": "code",
   "execution_count": 4,
   "metadata": {},
   "outputs": [
    {
     "name": "stdout",
     "output_type": "stream",
     "text": [
      "Initialising pipeline\n",
      "  Running <pyopia.classify.Classify object at 0x0000016128F41160>\n",
      "Pipeline ready with these data:  ['cl']\n"
     ]
    }
   ],
   "source": [
    "# example future pre-processing admin:\n",
    "# 1) config file config load\n",
    "# 2) build steps dict from loaded file\n",
    "# 3) establish non-processing related metadata\n",
    "\n",
    "datafile_hdf = 'proc/test'\n",
    "model_path = exampledata.get_example_model()\n",
    "threshold = 0.85\n",
    "\n",
    "steps = {'classifier': Classify(model_path=model_path),\n",
    "         'load': SilCamLoad(),\n",
    "         'imageprep': ImagePrep(),\n",
    "         'segmentation': pyopia.process.Segment(threshold=threshold),\n",
    "         'statextract': pyopia.process.CalculateStats(),\n",
    "         'output': pyopia.io.StatsH5(datafile_hdf)}\n",
    "\n",
    "processing_pipeline = Pipeline(steps, initial_steps=['classifier'])"
   ]
  },
  {
   "cell_type": "code",
   "execution_count": 5,
   "metadata": {},
   "outputs": [
    {
     "name": "stdout",
     "output_type": "stream",
     "text": [
      "calling:  <class 'pyopia.instrument.silcam.SilCamLoad'>  with:  ['cl', 'filename', 'steps_string']\n",
      "calling:  <class 'pyopia.instrument.silcam.ImagePrep'>  with:  ['cl', 'filename', 'steps_string', 'timestamp', 'img']\n",
      "WARNING: Background correction not implemented!\n",
      "calling:  <class 'pyopia.process.Segment'>  with:  ['cl', 'filename', 'steps_string', 'timestamp', 'img', 'imc']\n",
      "segment\n",
      "clean\n",
      "calling:  <class 'pyopia.process.CalculateStats'>  with:  ['cl', 'filename', 'steps_string', 'timestamp', 'img', 'imc', 'imbw']\n",
      "statextract_light\n",
      "21.7% saturation\n",
      "measure\n",
      "  870 particles found\n",
      "WARNING. exportparticles temporarily modified for 2-d images without color!\n",
      "EXTRACTING 870 IMAGES from 870\n",
      "calling:  <class 'pyopia.io.StatsH5'>  with:  ['cl', 'filename', 'steps_string', 'timestamp', 'img', 'imc', 'imbw', 'stats']\n",
      "calling:  <class 'pyopia.instrument.silcam.SilCamLoad'>  with:  ['cl', 'filename', 'steps_string', 'timestamp', 'img', 'imc', 'imbw', 'stats']\n",
      "calling:  <class 'pyopia.instrument.silcam.ImagePrep'>  with:  ['cl', 'filename', 'steps_string', 'timestamp', 'img', 'imc', 'imbw', 'stats']\n",
      "WARNING: Background correction not implemented!\n",
      "calling:  <class 'pyopia.process.Segment'>  with:  ['cl', 'filename', 'steps_string', 'timestamp', 'img', 'imc', 'imbw', 'stats']\n",
      "segment\n",
      "clean\n",
      "calling:  <class 'pyopia.process.CalculateStats'>  with:  ['cl', 'filename', 'steps_string', 'timestamp', 'img', 'imc', 'imbw', 'stats']\n",
      "statextract_light\n",
      "19.7% saturation\n",
      "measure\n",
      "  874 particles found\n",
      "WARNING. exportparticles temporarily modified for 2-d images without color!\n",
      "EXTRACTING 874 IMAGES from 874\n",
      "calling:  <class 'pyopia.io.StatsH5'>  with:  ['cl', 'filename', 'steps_string', 'timestamp', 'img', 'imc', 'imbw', 'stats']\n"
     ]
    }
   ],
   "source": [
    "for filename in files[:2]:\n",
    "    stats = processing_pipeline.run(filename)"
   ]
  },
  {
   "cell_type": "code",
   "execution_count": 6,
   "metadata": {},
   "outputs": [
    {
     "name": "stdout",
     "output_type": "stream",
     "text": [
      "Modified:\n",
      "    2023-01-08 23:03:57.220818\n",
      "Pipeline steps:\n",
      "    \n",
      "1) Step: classifier\n",
      "   Type: <class 'pyopia.classify.Classify'>\n",
      "   Vars: {'model_path': 'keras_model.h5', 'class_labels': Index(['oil', 'other', 'bubble', 'faecal_pellets', 'copepod', 'diatom_chain',\n",
      "       'oily_gas'],\n",
      "      dtype='object'), 'model': <keras.engine.sequential.Sequential object at 0x0000016132598FD0>}\n",
      "2) Step: load\n",
      "   Type: <class 'pyopia.instrument.silcam.SilCamLoad'>\n",
      "   Vars: {}\n",
      "3) Step: imageprep\n",
      "   Type: <class 'pyopia.instrument.silcam.ImagePrep'>\n",
      "   Vars: {}\n",
      "4) Step: segmentation\n",
      "   Type: <class 'pyopia.process.Segment'>\n",
      "   Vars: {'minimum_area': 12, 'threshold': 0.85, 'fill_holes': True}\n",
      "5) Step: statextract\n",
      "   Type: <class 'pyopia.process.CalculateStats'>\n",
      "   Vars: {'max_coverage': 30, 'max_particles': 5000, 'export_outputpath': None, 'min_length': 0}\n",
      "6) Step: output\n",
      "   Type: <class 'pyopia.io.StatsH5'>\n",
      "   Vars: {'datafilename': 'proc/test'}\n",
      "\n",
      "PyOpia version:\n",
      "    0.0.23\n"
     ]
    }
   ],
   "source": [
    "# display metadata in the h5\n",
    "pyopia.io.show_h5_meta(datafile_hdf + '-STATS.h5')"
   ]
  },
  {
   "cell_type": "code",
   "execution_count": 7,
   "metadata": {},
   "outputs": [
    {
     "name": "stdout",
     "output_type": "stream",
     "text": [
      "stats header:  Index(['major_axis_length', 'minor_axis_length', 'equivalent_diameter',\n",
      "       'solidity', 'minr', 'minc', 'maxr', 'maxc', 'probability_oil',\n",
      "       'probability_other', 'probability_bubble', 'probability_faecal_pellets',\n",
      "       'probability_copepod', 'probability_diatom_chain',\n",
      "       'probability_oily_gas', 'export name', 'timestamp', 'saturation'],\n",
      "      dtype='object')\n",
      "Total number of particles:  36904\n",
      "Number of raw images:  4\n"
     ]
    }
   ],
   "source": [
    "import pyopia.statistics\n",
    "# load the stats DataFrame from the h5 file\n",
    "stats = pd.read_hdf(datafile_hdf + '-STATS.h5', 'ParticleStats/stats')\n",
    "print('stats header: ', stats.columns)\n",
    "print('Total number of particles: ', len(stats))\n",
    "print('Number of raw images: ', pyopia.statistics.count_images_in_stats(stats))"
   ]
  }
 ],
 "metadata": {
  "kernelspec": {
   "display_name": "Python 3",
   "language": "python",
   "name": "python3"
  },
  "language_info": {
   "codemirror_mode": {
    "name": "ipython",
    "version": 3
   },
   "file_extension": ".py",
   "mimetype": "text/x-python",
   "name": "python",
   "nbconvert_exporter": "python",
   "pygments_lexer": "ipython3",
   "version": "3.8.15"
  },
  "orig_nbformat": 4,
  "vscode": {
   "interpreter": {
    "hash": "35ab0c005d63a5587fede8db5b2b16b081d9aece903d58f7211748c218ea86a0"
   }
  }
 },
 "nbformat": 4,
 "nbformat_minor": 2
}
