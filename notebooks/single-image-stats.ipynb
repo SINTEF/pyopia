{
 "cells": [
  {
   "cell_type": "markdown",
   "id": "46d75710",
   "metadata": {},
   "source": [
    "# Imports"
   ]
  },
  {
   "cell_type": "code",
   "execution_count": null,
   "id": "1c889a56",
   "metadata": {},
   "outputs": [],
   "source": [
    "import numpy as np\n",
    "import matplotlib.pyplot as plt\n",
    "import pandas as pd\n",
    "import os\n",
    "\n",
    "import pyopia.classify\n",
    "import pyopia.process\n",
    "import pyopia.pipeline\n",
    "import pyopia.statistics\n",
    "import pyopia.instrument.silcam\n",
    "\n",
    "import exampledata"
   ]
  },
  {
   "cell_type": "markdown",
   "id": "eb55f3f4",
   "metadata": {},
   "source": [
    "# Load an image"
   ]
  },
  {
   "cell_type": "code",
   "execution_count": null,
   "id": "de3d8148",
   "metadata": {},
   "outputs": [],
   "source": [
    "# define the image name for loading and later use in extracting timestamp\n",
    "# this image example can be dowloaded from here:\n",
    "#     https://pysilcam.blob.core.windows.net/test-data/D20181101T142731.838206.silc\n",
    "\n",
    "filename = exampledata.get_example_silc_image()\n",
    "\n",
    "# load a silcam image and an example\n",
    "img = np.load(filename, allow_pickle=False)"
   ]
  },
  {
   "cell_type": "code",
   "execution_count": null,
   "id": "c31d2687",
   "metadata": {},
   "outputs": [],
   "source": [
    "# show the image\n",
    "plt.imshow(img)"
   ]
  },
  {
   "cell_type": "markdown",
   "id": "383cdaf5",
   "metadata": {},
   "source": [
    "# Initialise the CNN"
   ]
  },
  {
   "cell_type": "code",
   "execution_count": null,
   "id": "5e113128",
   "metadata": {},
   "outputs": [],
   "source": [
    "# load the model (this example can be found here:\n",
    "#    https://github.com/SINTEF/PySilCam/wiki/ml_models/keras_model.zip)\n",
    "\n",
    "model_path = exampledata.get_example_model()\n",
    "\n",
    "steps = {'classifier': pyopia.classify.Classify(model_path=model_path),\n",
    "         'load': pyopia.instrument.silcam.SilCamLoad(),\n",
    "         'imageprep': pyopia.instrument.silcam.ImagePrep(image_level='imraw'),\n",
    "         'segmentation': pyopia.process.Segment(threshold=0.85),\n",
    "         'statextract': pyopia.process.CalculateStats()}"
   ]
  },
  {
   "cell_type": "markdown",
   "id": "8bffa43c",
   "metadata": {},
   "source": [
    "# Calculate particle statistics"
   ]
  },
  {
   "cell_type": "code",
   "execution_count": null,
   "id": "7b0c9d68",
   "metadata": {
    "scrolled": true
   },
   "outputs": [],
   "source": [
    "# Initialise the pipeline and run the initial steps\n",
    "processing_pipeline = pyopia.pipeline.Pipeline(steps)\n",
    "\n",
    "# Load an image (from the test suite)\n",
    "filename = exampledata.get_example_silc_image()\n",
    "\n",
    "# Process the image to obtain the stats dataframe\n",
    "stats = processing_pipeline.run(filename)"
   ]
  },
  {
   "cell_type": "code",
   "execution_count": null,
   "id": "ecc13530",
   "metadata": {},
   "outputs": [],
   "source": [
    "keys = list(steps.keys())\n",
    "steps[keys[0]]"
   ]
  },
  {
   "cell_type": "code",
   "execution_count": null,
   "id": "1b1a56b1",
   "metadata": {},
   "outputs": [],
   "source": [
    "steps"
   ]
  },
  {
   "cell_type": "code",
   "execution_count": null,
   "id": "d6661e9d",
   "metadata": {},
   "outputs": [],
   "source": [
    "vars(pyopia.classify.Classify)['__init__']"
   ]
  },
  {
   "cell_type": "code",
   "execution_count": null,
   "id": "473da6ee",
   "metadata": {},
   "outputs": [],
   "source": [
    "str(steps).replace('<','{0.').replace('>','}')"
   ]
  },
  {
   "cell_type": "code",
   "execution_count": null,
   "id": "411e6b1a",
   "metadata": {},
   "outputs": [],
   "source": [
    "xstats = stats.to_xarray()\n",
    "xstats.attrs[\"steps\"] = steps\n",
    "#xstats.to_netcdf('proc/test-STATS.nc')\n",
    "xstats"
   ]
  },
  {
   "cell_type": "code",
   "execution_count": null,
   "id": "3a913738",
   "metadata": {},
   "outputs": [],
   "source": [
    "import xarray"
   ]
  },
  {
   "cell_type": "code",
   "execution_count": null,
   "id": "7a56b23f",
   "metadata": {},
   "outputs": [],
   "source": [
    "xsteps = xarray.DataArray.from_dict(steps)\n",
    "xsteps"
   ]
  },
  {
   "cell_type": "code",
   "execution_count": null,
   "id": "8fbb7484",
   "metadata": {},
   "outputs": [],
   "source": [
    "xstats.to_netcdf('proc/test-STATS.nc')"
   ]
  },
  {
   "cell_type": "code",
   "execution_count": null,
   "id": "28f7e008",
   "metadata": {},
   "outputs": [],
   "source": [
    "xstats.to_dataframe()"
   ]
  },
  {
   "cell_type": "code",
   "execution_count": null,
   "id": "9e73433c",
   "metadata": {},
   "outputs": [],
   "source": [
    "raise\n",
    "import pyopia.io"
   ]
  },
  {
   "cell_type": "code",
   "execution_count": null,
   "id": "b659649c",
   "metadata": {},
   "outputs": [],
   "source": [
    "datafilename = 'proc/test'\n",
    "steps_string = pyopia.pipeline.steps_to_string(steps)"
   ]
  },
  {
   "cell_type": "code",
   "execution_count": null,
   "id": "6aa9db83",
   "metadata": {},
   "outputs": [],
   "source": [
    "from datetime import datetime\n",
    "import h5py\n",
    "import pandas as pd\n",
    "from pyopia import __version__ as pyopia_version\n",
    "\n",
    "\n",
    "with h5py.File(datafilename + '-STATS.h5', \"a\") as fh:\n",
    "    meta = fh.require_group('Meta')\n",
    "    meta.attrs['Modified'] = str(datetime.now())\n",
    "    meta.attrs['PyOpia version'] = pyopia_version\n",
    "    meta.attrs['Pipeline steps'] = steps_string"
   ]
  },
  {
   "cell_type": "code",
   "execution_count": null,
   "id": "f1c06b8f",
   "metadata": {},
   "outputs": [],
   "source": [
    "with h5py.File(datafilename + '-STATS.h5', \"r\") as f:\n",
    "    keys = list(f['Meta'].attrs.keys())\n",
    "    steps_fromh5 = f['Meta'].attrs['Pipeline steps']\n",
    "steps_fromh5"
   ]
  },
  {
   "cell_type": "code",
   "execution_count": null,
   "id": "ea764746",
   "metadata": {},
   "outputs": [],
   "source": [
    "data = pd.read_hdf(datafilename + '-STATS.h5')\n",
    "data"
   ]
  },
  {
   "cell_type": "code",
   "execution_count": null,
   "id": "e7acd511",
   "metadata": {},
   "outputs": [],
   "source": [
    "loaded_stats = pyopia.io.show_h5_meta('proc/test-STATS.h5')"
   ]
  }
 ],
 "metadata": {
  "kernelspec": {
   "display_name": "Python 3.8.13 64-bit ('pyopia')",
   "language": "python",
   "name": "python3"
  },
  "language_info": {
   "codemirror_mode": {
    "name": "ipython",
    "version": 3
   },
   "file_extension": ".py",
   "mimetype": "text/x-python",
   "name": "python",
   "nbconvert_exporter": "python",
   "pygments_lexer": "ipython3",
   "version": "3.10.12"
  },
  "vscode": {
   "interpreter": {
    "hash": "35ab0c005d63a5587fede8db5b2b16b081d9aece903d58f7211748c218ea86a0"
   }
  }
 },
 "nbformat": 4,
 "nbformat_minor": 5
}
