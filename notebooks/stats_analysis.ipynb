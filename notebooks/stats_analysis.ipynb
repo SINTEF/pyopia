{
 "cells": [
  {
   "cell_type": "markdown",
   "metadata": {},
   "source": [
    "# Imports"
   ]
  },
  {
   "cell_type": "code",
   "execution_count": null,
   "metadata": {},
   "outputs": [],
   "source": [
    "import warnings\n",
    "warnings.filterwarnings('ignore')"
   ]
  },
  {
   "cell_type": "code",
   "execution_count": null,
   "metadata": {},
   "outputs": [],
   "source": [
    "import pandas as pd\n",
    "import pyopia.statistics\n",
    "import matplotlib.pyplot as plt\n",
    "from matplotlib import colors\n",
    "import cmocean\n",
    "import numpy as np"
   ]
  },
  {
   "cell_type": "code",
   "execution_count": null,
   "metadata": {},
   "outputs": [],
   "source": [
    "filename = 'proc/test-STATS.h5'\n",
    "pixel_size = 28\n",
    "path_length = 40\n",
    "\n",
    "stats = pd.read_hdf(filename, 'ParticleStats/stats')\n",
    "\n",
    "dias, vd = pyopia.statistics.vd_from_stats(stats, pixel_size)\n",
    "plt.plot(dias, vd ,'k')\n",
    "plt.xscale('log')"
   ]
  },
  {
   "cell_type": "code",
   "execution_count": null,
   "metadata": {},
   "outputs": [],
   "source": [
    "timeseries = pyopia.statistics.make_timeseries_vd(stats, pixel_size, path_length)"
   ]
  },
  {
   "cell_type": "code",
   "execution_count": null,
   "metadata": {},
   "outputs": [],
   "source": [
    "dias = timeseries.iloc[:,0:52].columns.values.astype(float)\n",
    "vdts = timeseries.iloc[:,0:52].values\n",
    "\n",
    "#f = plt.figure(figsize=(8,8))\n",
    "pcm = plt.pcolormesh(dias, timeseries['Time'], vdts,\n",
    "                     cmap=cmocean.cm.turbid, norm=colors.LogNorm(vmin=0.1, vmax=10))\n",
    "#c=f.colorbar(pcm, ax=plt.gca())\n",
    "plt.xscale('log')\n",
    "#plt.gca().invert_yaxis()\n",
    "plt.xlabel('Equivalent Circular Diameter [um]')\n",
    "plt.ylabel('Time')\n",
    "#c.set_label('Volume Distribution [uL/L/size-class]')\n",
    "plt.title('Time-series volume distribution')"
   ]
  }
 ],
 "metadata": {
  "kernelspec": {
   "display_name": "Python 3",
   "language": "python",
   "name": "python3"
  },
  "language_info": {
   "codemirror_mode": {
    "name": "ipython",
    "version": 3
   },
   "file_extension": ".py",
   "mimetype": "text/x-python",
   "name": "python",
   "nbconvert_exporter": "python",
   "pygments_lexer": "ipython3",
   "version": "3.8.15 | packaged by conda-forge | (default, Nov 22 2022, 08:42:03) [MSC v.1929 64 bit (AMD64)]"
  },
  "orig_nbformat": 4,
  "vscode": {
   "interpreter": {
    "hash": "35ab0c005d63a5587fede8db5b2b16b081d9aece903d58f7211748c218ea86a0"
   }
  }
 },
 "nbformat": 4,
 "nbformat_minor": 2
}
